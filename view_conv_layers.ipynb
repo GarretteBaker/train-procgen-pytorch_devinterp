{
 "cells": [
  {
   "cell_type": "code",
   "execution_count": 2,
   "metadata": {},
   "outputs": [],
   "source": [
    "import torch\n",
    "import os\n",
    "import matplotlib.pyplot as plt"
   ]
  },
  {
   "cell_type": "code",
   "execution_count": 11,
   "metadata": {},
   "outputs": [
    {
     "name": "stdout",
     "output_type": "stream",
     "text": [
      "torch.Size([16, 3, 3, 3])\n"
     ]
    }
   ],
   "source": [
    "artifact_number = 8000\n",
    "artifacts_files = os.listdir(\"models\")\n",
    "model_file = f\"models/{artifacts_files[artifact_number]}/{artifacts_files[artifact_number]}\"\n",
    "\n",
    "loaded_checkpoint = torch.load(model_file)\n",
    "# in_channels = 3\n",
    "# model = ImpalaModel(in_channels = observation_shape[0])\n",
    "# policy = CategoricalPolicy(model, False, 15)\n",
    "# if \"state_dict\" in loaded_checkpoint:\n",
    "#     policy.load_state_dict(loaded_checkpoint['state_dict'])\n",
    "# elif \"model_state_dict\" in loaded_checkpoint:\n",
    "#     policy.load_state_dict(loaded_checkpoint['model_state_dict'])\n",
    "# policy.to(device)\n",
    "conv_layer = loaded_checkpoint['state_dict']['embedder.block1.conv.weight']\n",
    "print(conv_layer.shape)"
   ]
  },
  {
   "cell_type": "code",
   "execution_count": 14,
   "metadata": {},
   "outputs": [
    {
     "name": "stdout",
     "output_type": "stream",
     "text": [
      "embedder.block1.conv.weight\n",
      "embedder.block1.conv.bias\n",
      "embedder.block1.res1.conv1.weight\n",
      "embedder.block1.res1.conv1.bias\n",
      "embedder.block1.res1.conv2.weight\n",
      "embedder.block1.res1.conv2.bias\n",
      "embedder.block1.res2.conv1.weight\n",
      "embedder.block1.res2.conv1.bias\n",
      "embedder.block1.res2.conv2.weight\n",
      "embedder.block1.res2.conv2.bias\n",
      "embedder.block2.conv.weight\n",
      "embedder.block2.conv.bias\n",
      "embedder.block2.res1.conv1.weight\n",
      "embedder.block2.res1.conv1.bias\n",
      "embedder.block2.res1.conv2.weight\n",
      "embedder.block2.res1.conv2.bias\n",
      "embedder.block2.res2.conv1.weight\n",
      "embedder.block2.res2.conv1.bias\n",
      "embedder.block2.res2.conv2.weight\n",
      "embedder.block2.res2.conv2.bias\n",
      "embedder.block3.conv.weight\n",
      "embedder.block3.conv.bias\n",
      "embedder.block3.res1.conv1.weight\n",
      "embedder.block3.res1.conv1.bias\n",
      "embedder.block3.res1.conv2.weight\n",
      "embedder.block3.res1.conv2.bias\n",
      "embedder.block3.res2.conv1.weight\n",
      "embedder.block3.res2.conv1.bias\n",
      "embedder.block3.res2.conv2.weight\n",
      "embedder.block3.res2.conv2.bias\n",
      "embedder.fc.weight\n",
      "embedder.fc.bias\n",
      "fc_policy.weight\n",
      "fc_policy.bias\n",
      "fc_value.weight\n",
      "fc_value.bias\n"
     ]
    }
   ],
   "source": [
    "for layer in loaded_checkpoint['state_dict'].keys():\n",
    "    print(layer)"
   ]
  },
  {
   "cell_type": "code",
   "execution_count": 12,
   "metadata": {},
   "outputs": [
    {
     "data": {
      "image/png": "[encoded data removed]",
      "text/plain": [
       "<Figure size 432x288 with 16 Axes>"
      ]
     },
     "metadata": {
      "needs_background": "light"
     },
     "output_type": "display_data"
    }
   ],
   "source": [
    "# loop through all 16 filters\n",
    "for i in range(16):\n",
    "    plt.subplot(4, 4, i+1)\n",
    "    plt.imshow(conv_layer[i][0].cpu().detach().numpy())\n",
    "    plt.axis('off')\n",
    "plt.show()"
   ]
  },
  {
   "cell_type": "code",
   "execution_count": 16,
   "metadata": {},
   "outputs": [],
   "source": [
    "import numpy as np"
   ]
  },
  {
   "cell_type": "code",
   "execution_count": 17,
   "metadata": {},
   "outputs": [
    {
     "data": {
      "image/png": "[encoded data removed]",
      "text/plain": [
       "<Figure size 720x720 with 16 Axes>"
      ]
     },
     "metadata": {
      "needs_background": "light"
     },
     "output_type": "display_data"
    }
   ],
   "source": [
    "# Normalize the filters\n",
    "min_val = torch.min(conv_layer)\n",
    "range_val = torch.max(conv_layer) - min_val\n",
    "normalized_filters = (conv_layer - min_val) / range_val\n",
    "\n",
    "# Plot the filters\n",
    "fig, axes = plt.subplots(4, 4, figsize=(10,10)) # Adjust the subplot grid as needed\n",
    "for i, ax in enumerate(axes.flat):\n",
    "    filter = normalized_filters[i].cpu().numpy()\n",
    "    filter = np.transpose(filter, (1, 2, 0))  # Rearrange the dimensions to (H, W, C)\n",
    "    ax.imshow(filter)\n",
    "    ax.axis('off')\n",
    "plt.show()"
   ]
  },
  {
   "cell_type": "code",
   "execution_count": 19,
   "metadata": {},
   "outputs": [],
   "source": [
    "from tqdm import tqdm"
   ]
  },
  {
   "cell_type": "code",
   "execution_count": 20,
   "metadata": {},
   "outputs": [
    {
     "name": "stderr",
     "output_type": "stream",
     "text": [
      "100%|██████████| 8000/8000 [39:28<00:00,  3.38it/s]   \n"
     ]
    }
   ],
   "source": [
    "for artifact_number in tqdm(range(8000)):\n",
    "    artifacts_files = os.listdir(\"models\")\n",
    "    model_file = f\"models/{artifacts_files[artifact_number]}/{artifacts_files[artifact_number]}\"\n",
    "    loaded_checkpoint = torch.load(model_file)\n",
    "    conv_layer = loaded_checkpoint['state_dict']['embedder.block1.conv.weight']\n",
    "    \n",
    "    # Normalize the filters\n",
    "    min_val = torch.min(conv_layer)\n",
    "    range_val = torch.max(conv_layer) - min_val\n",
    "    normalized_filters = (conv_layer - min_val) / range_val\n",
    "\n",
    "    # Plot the filters\n",
    "    fig, axes = plt.subplots(4, 4, figsize=(10,10)) # Adjust the subplot grid as needed\n",
    "    for i, ax in enumerate(axes.flat):\n",
    "        filter = normalized_filters[i].cpu().numpy()\n",
    "        filter = np.transpose(filter, (1, 2, 0))  # Rearrange the dimensions to (H, W, C)\n",
    "        ax.imshow(filter)\n",
    "        ax.axis('off')\n",
    "    os.makedirs(\"filters\", exist_ok=True)\n",
    "    plt.savefig(f\"filters/{artifact_number}.png\")\n",
    "    plt.close()"
   ]
  },
  {
   "cell_type": "code",
   "execution_count": 7,
   "metadata": {},
   "outputs": [
    {
     "name": "stdout",
     "output_type": "stream",
     "text": [
      "['model_133971968.pth']\n"
     ]
    },
    {
     "ename": "IndexError",
     "evalue": "list index out of range",
     "output_type": "error",
     "traceback": [
      "\u001b[0;31m---------------------------------------------------------------------------\u001b[0m",
      "\u001b[0;31mIndexError\u001b[0m                                Traceback (most recent call last)",
      "Cell \u001b[0;32mIn[7], line 4\u001b[0m\n\u001b[1;32m      2\u001b[0m artifacts_files \u001b[38;5;241m=\u001b[39m os\u001b[38;5;241m.\u001b[39mlistdir(\u001b[38;5;124m\"\u001b[39m\u001b[38;5;124mmodels/model_133971968.pth\u001b[39m\u001b[38;5;124m\"\u001b[39m)\n\u001b[1;32m      3\u001b[0m \u001b[38;5;28mprint\u001b[39m(artifacts_files)\n\u001b[0;32m----> 4\u001b[0m model_file \u001b[38;5;241m=\u001b[39m \u001b[38;5;124mf\u001b[39m\u001b[38;5;124m\"\u001b[39m\u001b[38;5;124mmodels/\u001b[39m\u001b[38;5;132;01m{\u001b[39;00m\u001b[43martifacts_files\u001b[49m\u001b[43m[\u001b[49m\u001b[43martifact_number\u001b[49m\u001b[43m]\u001b[49m\u001b[38;5;132;01m}\u001b[39;00m\u001b[38;5;124m/\u001b[39m\u001b[38;5;132;01m{\u001b[39;00martifacts_files[artifact_number]\u001b[38;5;132;01m}\u001b[39;00m\u001b[38;5;124m\"\u001b[39m\n\u001b[1;32m      5\u001b[0m loaded_checkpoint \u001b[38;5;241m=\u001b[39m torch\u001b[38;5;241m.\u001b[39mload(model_file)\n\u001b[1;32m      6\u001b[0m conv_layer \u001b[38;5;241m=\u001b[39m loaded_checkpoint[\u001b[38;5;124m'\u001b[39m\u001b[38;5;124mstate_dict\u001b[39m\u001b[38;5;124m'\u001b[39m][\u001b[38;5;124m'\u001b[39m\u001b[38;5;124membedder.block1.conv.weight\u001b[39m\u001b[38;5;124m'\u001b[39m]\n",
      "\u001b[0;31mIndexError\u001b[0m: list index out of range"
     ]
    }
   ],
   "source": [
    "artifact_number = 6697\n",
    "artifacts_files = os.listdir(\"models/model_133971968.pth\")\n",
    "print(artifacts_files)\n",
    "model_file = f\"models/{artifacts_files[artifact_number]}/{artifacts_files[artifact_number]}\"\n",
    "loaded_checkpoint = torch.load(model_file)\n",
    "conv_layer = loaded_checkpoint['state_dict']['embedder.block1.conv.weight']\n"
   ]
  }
 ],
 "metadata": {
  "kernelspec": {
   "display_name": "Python 3",
   "language": "python",
   "name": "python3"
  },
  "language_info": {
   "codemirror_mode": {
    "name": "ipython",
    "version": 3
   },
   "file_extension": ".py",
   "mimetype": "text/x-python",
   "name": "python",
   "nbconvert_exporter": "python",
   "pygments_lexer": "ipython3",
   "version": "3.10.12"
  }
 },
 "nbformat": 4,
 "nbformat_minor": 2
}
