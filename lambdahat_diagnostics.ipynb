{
 "cells": [
  {
   "cell_type": "code",
   "execution_count": null,
   "metadata": {},
   "outputs": [],
   "source": [
    "#%%\n",
    "import wandb\n",
    "from tqdm import tqdm\n",
    "import torch\n",
    "import os\n",
    "import shutil\n",
    "import matplotlib.pyplot as plt\n",
    "from devinterp.slt import estimate_learning_coeff, estimate_learning_coeff_with_summary\n",
    "from devinterp.optim import SGLD\n",
    "from common.env.procgen_wrappers import *\n",
    "from common.logger import Logger\n",
    "from common.storage import Storage\n",
    "from common.model import NatureModel, ImpalaModel\n",
    "from common.policy import CategoricalPolicy, CategoricalValueNetwork\n",
    "from common import set_global_seeds, set_global_log_levels\n",
    "\n",
    "import os, time, yaml, argparse\n",
    "import gym\n",
    "from procgen import ProcgenEnv\n",
    "import random\n",
    "import torch\n",
    "from agents.ppo import PPO as AGENT\n",
    "import random\n",
    "import yaml\n",
    "from devinterp.utils import plot_trace\n",
    "import pickle\n",
    "from devinterp.slt.gradient import GradientDistribution\n",
    "from matplotlib.collections import PatchCollection\n",
    "import matplotlib.ticker as ticker\n",
    "from devinterp.slt.norms import GradientNorm\n",
    "from devinterp.slt.llc import LLCEstimator, OnlineLLCEstimator\n",
    "from devinterp.slt import sample\n",
    "\n",
    "plt.rcParams[\"figure.figsize\"]=15,12  # note: this cell may need to be re-run after creating a plot to take effect\n",
    "\n",
    "# epsilons = np.logspace(-4, -11, 10)\n",
    "# gammas = np.logspace(1, 6, 10)\n",
    "# num_chains = 8\n",
    "# num_draws = 2000\n",
    "\n",
    "epsilons = [1e-7, 1e-8, 1e-9, 1e-10, 1e-11]\n",
    "gammas = [1e3]\n",
    "num_chains = 3\n",
    "num_draws = 200\n",
    "device = \"cuda:0\""
   ]
  },
  {
   "cell_type": "code",
   "execution_count": null,
   "metadata": {},
   "outputs": [],
   "source": [
    "def plot_trace_and_save(trace, y_axis, name, x_axis='step', title=None, plot_mean=True, plot_std=True, fig_size=(12, 9), true_lc=None):\n",
    "    num_chains, num_draws = trace.shape\n",
    "    sgld_step = list(range(num_draws))\n",
    "\n",
    "    plt.figure(figsize=fig_size)\n",
    "\n",
    "    if true_lc:\n",
    "        plt.axhline(y=true_lc, color='r', linestyle='dashed')\n",
    "    \n",
    "    # trace\n",
    "    for i in range(num_chains):\n",
    "        draws = trace[i]\n",
    "        plt.plot(sgld_step, draws, linewidth=1, label=f'chain {i}')\n",
    "\n",
    "    # mean\n",
    "    if plot_mean:\n",
    "        mean = np.mean(trace, axis=0)\n",
    "        plt.plot(sgld_step, mean, color='black', linestyle='--', linewidth=2, label='mean', zorder=3)\n",
    "    \n",
    "    # std\n",
    "    if plot_std:\n",
    "        std = np.std(trace, axis=0)\n",
    "        plt.fill_between(sgld_step, mean - std, mean + std, color='gray', alpha=0.3, zorder=2)\n",
    "\n",
    "    if title is None:\n",
    "        title = f'{y_axis} values over sampling draws'\n",
    "    \n",
    "    plt.legend(loc='upper left', bbox_to_anchor=(1, 1))    \n",
    "    plt.title(title)\n",
    "    plt.xlabel(x_axis)\n",
    "    plt.ylabel(y_axis)\n",
    "    plt.tight_layout()\n",
    "    plt.savefig(name)\n",
    "    plt.show()\n",
    "    plt.close()\n",
    "\n",
    "# def estimate_learning_coeff(\n",
    "#     model: torch.nn.Module,\n",
    "#     loader: DataLoader,\n",
    "#     criterion: Callable,\n",
    "#     sampling_method: Type[torch.optim.Optimizer] = SGLD,\n",
    "#     optimizer_kwargs: Optional[Dict[str, Union[float, Literal[\"adaptive\"]]]] = None,\n",
    "#     num_draws: int = 100,\n",
    "#     num_chains: int = 10,\n",
    "#     num_burnin_steps: int = 0,\n",
    "#     num_steps_bw_draws: int = 1,\n",
    "#     cores: int = 1,\n",
    "#     seed: Optional[Union[int, List[int]]] = None,\n",
    "#     device: torch.device = torch.device(\"cpu\"),\n",
    "#     verbose: bool = True,\n",
    "#     callbacks: List[Callable] = [],\n",
    "# ) -> float:\n",
    "\n",
    "# og run made with:\n",
    "# python train.py --exp_name hard-run --env_name maze_aisc --param_name easy --num_levels 0 --distribution_mode easy --num_timesteps 200000000 --num_checkpoints 1000\n",
    "\n",
    "# Excess defaults from train.py for reference:\n",
    "#     parser.add_argument('--exp_name',         type=str, default = 'test', help='experiment name')\n",
    "#     parser.add_argument('--env_name',         type=str, default = 'starpilot', help='environment ID')\n",
    "#     parser.add_argument('--start_level',      type=int, default = int(0), help='start-level for environment')\n",
    "#     parser.add_argument('--num_levels',       type=int, default = int(0), help='number of training levels for environment')\n",
    "#     parser.add_argument('--distribution_mode',type=str, default = 'easy', help='distribution mode for environment')\n",
    "#     parser.add_argument('--param_name',       type=str, default = 'easy-200', help='hyper-parameter ID')\n",
    "#     parser.add_argument('--device',           type=str, default = 'gpu', required = False, help='whether to use gpu')\n",
    "#     parser.add_argument('--gpu_device',       type=int, default = int(0), required = False, help = 'visible device in CUDA')\n",
    "#     parser.add_argument('--num_timesteps',    type=int, default = int(25000000), help = 'number of training timesteps')\n",
    "#     parser.add_argument('--seed',             type=int, default = random.randint(0,9999), help='Random generator seed')\n",
    "#     parser.add_argument('--log_level',        type=int, default = int(40), help='[10,20,30,40]')\n",
    "#     parser.add_argument('--num_checkpoints',  type=int, default = int(1), help='number of checkpoints to store')\n",
    "\n",
    "def get_model_number(model_name):\n",
    "    # model is of format model_<number>:v<version>\n",
    "    return int(model_name.split('_')[1].split(':')[0])\n",
    "\n",
    "def gradient_single_plot(gradients, param_name: str, color='blue', plot_zero=True, chain: int = None, filename = None):\n",
    "    grad_dist = gradients.grad_dists[param_name]\n",
    "    if chain is not None:\n",
    "        max_count = grad_dist[chain].max()\n",
    "    else:\n",
    "        max_count = grad_dist.sum(axis=0).max()\n",
    "\n",
    "    def get_color_alpha(count):\n",
    "        if count == 0:\n",
    "            return torch.tensor(0).to(gradients.device)\n",
    "        min_alpha = 0.35\n",
    "        max_alpha = 0.85\n",
    "        return (count / max_count) * (max_alpha - min_alpha) + min_alpha\n",
    "    \n",
    "    def build_rect(count, bin_min, bin_max, draw):\n",
    "        alpha = get_color_alpha(count)\n",
    "        pos = (draw, bin_min)\n",
    "        height = bin_max - bin_min\n",
    "        width = 1\n",
    "        return plt.Rectangle(pos, width, height, color=color, alpha=alpha.cpu().numpy().item(), linewidth=0)\n",
    "    \n",
    "    _, ax = plt.subplots()\n",
    "    patches = []\n",
    "    for draw in range(gradients.num_draws):\n",
    "        for pos in range(gradients.num_bins):\n",
    "            bin_min = gradients.min_grad + pos * gradients.bin_size\n",
    "            bin_max = bin_min + gradients.bin_size\n",
    "            if chain is None:\n",
    "                count = grad_dist[:, draw, pos].sum()\n",
    "            else:\n",
    "                count = grad_dist[chain, draw, pos]\n",
    "            if count != 0:\n",
    "                rect = build_rect(count, bin_min, bin_max, draw)\n",
    "                patches.append(rect)\n",
    "    patches = PatchCollection(patches, match_original=True)\n",
    "    ax.add_collection(patches)\n",
    "\n",
    "    # note that these y min/max values are relative to *all* gradients, not just the ones for this param\n",
    "    y_min = gradients.min_grad\n",
    "    y_max = gradients.max_grad\n",
    "    # ensure the 0 line is visible\n",
    "    y_min = y_min if y_min < 0 else -y_max\n",
    "    y_max = y_max if y_max > 0 else -y_min\n",
    "    plt.ylim(y_min, y_max)\n",
    "\n",
    "    plt.xlim(0, gradients.num_draws)\n",
    "    plt.gca().xaxis.set_major_locator(ticker.MaxNLocator(integer=True))\n",
    "    if plot_zero:\n",
    "        plt.axhline(color='black', linestyle=':', linewidth=1)\n",
    "\n",
    "    plt.xlabel('Sampler steps')\n",
    "    plt.ylabel('gradient distribution')\n",
    "    plt.title(f'Distribution of {param_name} gradients at each sampler step')\n",
    "\n",
    "    if filename is not None:\n",
    "        plt.savefig(filename)\n",
    "    else:\n",
    "        plt.show()\n",
    "\n",
    "def get_artifact_network_and_data(artifact_number, datapoints=100, batch_size=100, download=True):\n",
    "    artifacts = run.logged_artifacts()\n",
    "\n",
    "    if download:\n",
    "        artifact = artifacts[artifact_number]\n",
    "        artifact_to_download = api.artifact(f\"{project_name}/{artifact.name}\", type=\"model\")\n",
    "        artifact_dir = artifact_to_download.download()\n",
    "        model_file = f\"{artifact_dir}/{artifact.name[:-3]}.pth\"\n",
    "    else:\n",
    "        artifacts_files = os.listdir(\"models\")\n",
    "        model_file = f\"models/{artifacts_files[artifact_number]}/{artifacts_files[artifact_number]}\"\n",
    "\n",
    "    hidden_state_dim = 0\n",
    "    observation_space = env.observation_space\n",
    "    observation_shape = observation_space.shape\n",
    "    storage = Storage(observation_shape, hidden_state_dim, n_steps, n_envs, device)\n",
    "\n",
    "    loaded_checkpoint = torch.load(model_file)\n",
    "    model = ImpalaModel(in_channels = observation_shape[0])\n",
    "    policy = CategoricalPolicy(model, False, env.action_space.n)\n",
    "    if \"state_dict\" in loaded_checkpoint:\n",
    "        policy.load_state_dict(loaded_checkpoint['state_dict'])\n",
    "    elif \"model_state_dict\" in loaded_checkpoint:\n",
    "        policy.load_state_dict(loaded_checkpoint['model_state_dict'])\n",
    "    policy.to(device)\n",
    "    agent = AGENT(env, policy, logger, storage, device, num_checkpoints, **hyperparameters)\n",
    "\n",
    "    dataloader, dataset = agent.generate_data_loader(datapoints, batch_size)\n",
    "    value_network = CategoricalValueNetwork(model, False)\n",
    "    if \"state_dict\" in loaded_checkpoint:\n",
    "        loaded_checkpoint['state_dict'] = {k: v for k,v in loaded_checkpoint['state_dict'].items() if \"policy\" not in k}\n",
    "        value_network.load_state_dict(loaded_checkpoint['state_dict'])\n",
    "    elif \"model_state_dict\" in loaded_checkpoint:\n",
    "        loaded_checkpoint['model_state_dict'] = {k: v for k,v in loaded_checkpoint['model_state_dict'].items() if \"policy\" not in k}\n",
    "        value_network.load_state_dict(loaded_checkpoint['model_state_dict'])\n",
    "    return dataloader, dataset, value_network\n",
    "\n",
    "def optimize_value_network(value_network, dataloader, epochs=50, lr=1e-5):\n",
    "    value_network.to(device)\n",
    "    optimizer = torch.optim.Adam(value_network.parameters(), lr=lr)\n",
    "    criterion = torch.nn.MSELoss()\n",
    "\n",
    "    # Initialize a new wandb run\n",
    "    wandb.init(\n",
    "        project=\"procgen-lambdahat-estimation\", \n",
    "        name=\"optimize_that_thing!\", \n",
    "        mode=\"offline\"\n",
    "    )\n",
    "\n",
    "    for epoch in tqdm(range(epochs)):\n",
    "        for batch_idx, batch in enumerate(dataloader):\n",
    "            optimizer.zero_grad()\n",
    "            observations, returns = batch\n",
    "            observations = observations.to(device)\n",
    "            returns = returns.to(device)\n",
    "            values_pred = value_network(observations)\n",
    "            value_loss = criterion(values_pred, returns)\n",
    "\n",
    "            value_loss.backward()\n",
    "            optimizer.step()\n",
    "\n",
    "            # Calculate gradients statistics\n",
    "            grad_norm = torch.norm(torch.stack([torch.norm(p.grad.detach()) for p in value_network.parameters() if p.grad is not None]))\n",
    "            grad_mean = torch.mean(torch.stack([torch.mean(p.grad.detach()) for p in value_network.parameters() if p.grad is not None]))\n",
    "            grad_std = torch.std(torch.stack([torch.std(p.grad.detach()) for p in value_network.parameters() if p.grad is not None]))\n",
    "\n",
    "            # Log the loss and gradients\n",
    "            wandb.log({\n",
    "                \"epoch\": epoch,\n",
    "                \"batch\": batch_idx,\n",
    "                \"value_loss\": value_loss.item(),\n",
    "                \"value_network_grad_norm\": grad_norm, \n",
    "                \"value_network_grad_mean\": grad_mean, \n",
    "                \"value_network_grad_std\": grad_std,\n",
    "                **{f\"gradients/{name}\": wandb.Histogram(p.grad.cpu().numpy()) for name, p in value_network.named_parameters() if p.grad is not None}\n",
    "            })\n",
    "\n",
    "    wandb.finish()\n",
    "    return value_network    \n",
    "criterion = torch.nn.MSELoss()\n",
    "\n",
    "def run_callbacks(model, epsilon, gamma, dataloader, num_chains, num_draws, dataset, callbacks, device):\n",
    "    optim_kwargs = {\n",
    "        \"lr\": epsilon,\n",
    "        \"elasticity\": gamma,\n",
    "        \"temperature\": \"adaptive\",\n",
    "        \"num_samples\": len(dataset), \n",
    "        \"save_noise\": True\n",
    "    }\n",
    "    \n",
    "    if callbacks is None:\n",
    "        llc_estimator = OnlineLLCEstimator(num_chains, num_draws, len(dataset), device=device)\n",
    "        callbacks = [llc_estimator]\n",
    "\n",
    "    sample(\n",
    "        model=model, \n",
    "        loader=dataloader, \n",
    "        criterion = criterion, \n",
    "        optimizer_kwargs = optim_kwargs,\n",
    "        sampling_method = SGLD, \n",
    "        num_chains = num_chains,\n",
    "        num_draws = num_draws, \n",
    "        callbacks = callbacks, \n",
    "        device=device\n",
    "    )\n",
    "    \n",
    "    results = {}\n",
    "\n",
    "    for callback in callbacks:\n",
    "        if hasattr(callback, \"sample\"):\n",
    "            results.update(callback.sample())\n",
    "    return results\n",
    "    \n",
    "\n",
    "def estimate_llcs_sweeper(model, epsilons, gammas, dataloader, dataset):\n",
    "    results = {}\n",
    "    for epsilon in epsilons:\n",
    "        for gamma in gammas:\n",
    "            print(f\"epsilon: {epsilon}, gamma: {gamma}, model 8000\")\n",
    "            optim_kwargs = dict(\n",
    "                lr=epsilon,\n",
    "                noise_level=1.0,\n",
    "                elasticity=gamma,\n",
    "                num_samples=len(dataset),\n",
    "                temperature=\"adaptive\",\n",
    "            )\n",
    "            pair = (epsilon, gamma)\n",
    "            # try:\n",
    "            grad_norm = GradientNorm(\n",
    "                num_chains = num_chains, \n",
    "                num_draws = num_draws, \n",
    "                device=device\n",
    "            )\n",
    "            llc_estimater = LLCEstimator(\n",
    "                num_chains = num_chains,\n",
    "                num_draws = num_draws, \n",
    "                device = device\n",
    "            )\n",
    "            callbacks = [llc_estimater, grad_norm]\n",
    "            results[pair] = run_callbacks(\n",
    "                train_loader=dataloader,\n",
    "                train_data=dataset, \n",
    "                weights = model.parameters(),\n",
    "                criterion=criterion,\n",
    "\n",
    "                \n",
    "            )\n",
    "            results[pair] = estimate_learning_coeff_with_summary(\n",
    "                model=model,\n",
    "                loader=dataloader,\n",
    "                criterion=criterion,\n",
    "                sampling_method=SGLD,\n",
    "                optimizer_kwargs=optim_kwargs,\n",
    "                num_chains=num_chains,\n",
    "                num_draws=num_draws,\n",
    "                device=device,\n",
    "                online=True,\n",
    "                callbacks=callbacks\n",
    "            )\n",
    "            # except:\n",
    "            #     print(\"failed\")\n",
    "            #     results[pair] = None\n",
    "    return results\n",
    "\n",
    "def plot_single_graph(result, filename=None, title=''):\n",
    "    llc_color = 'teal'\n",
    "    fig, axs = plt.subplots(1, 1)\n",
    "    # plot loss traces\n",
    "    loss_traces = result['loss/trace']\n",
    "    for trace in loss_traces:\n",
    "        init_loss = trace[0]\n",
    "        zeroed_trace = trace - init_loss\n",
    "        sgld_steps = list(range(len(trace)))\n",
    "        axs.plot(sgld_steps, zeroed_trace)\n",
    "\n",
    "    # plot llcs\n",
    "    means = result['llc/means']\n",
    "    stds = result['llc/stds']\n",
    "    sgld_steps = list(range(len(means)))\n",
    "    axs2 = axs.twinx() \n",
    "    axs2.plot(sgld_steps, means, color=llc_color, linestyle='--', linewidth=2, label=f'llc', zorder=3)\n",
    "    axs2.fill_between(sgld_steps, means - stds, means + stds, color=llc_color, alpha=0.3, zorder=2)\n",
    "\n",
    "    # center zero, assume zero is in the range of both y axes already\n",
    "    y1_min, y1_max = axs.get_ylim()\n",
    "    y2_min, y2_max = axs2.get_ylim()\n",
    "    y1_zero_ratio = abs(y1_min) / (abs(y1_min) + abs(y1_max))\n",
    "    y2_zero_ratio = abs(y2_min) / (abs(y2_min) + abs(y2_max))\n",
    "    percent_to_add = abs(y1_zero_ratio - y2_zero_ratio)\n",
    "    y1_amt_to_add = (y1_max - y1_min) * percent_to_add\n",
    "    y2_amt_to_add = (y2_max - y2_min) * percent_to_add\n",
    "    if y1_zero_ratio < y2_zero_ratio:\n",
    "        # add to bottom of y1 and top of y2\n",
    "        y1_min -= y1_amt_to_add\n",
    "        y2_max += y2_amt_to_add\n",
    "    elif y2_zero_ratio < y1_zero_ratio:\n",
    "        # add to bottom of y2 and top of y1\n",
    "        y2_min -= y2_amt_to_add\n",
    "        y1_max += y1_amt_to_add\n",
    "    axs.set_ylim(y1_min, y1_max)\n",
    "    axs2.set_ylim(y2_min, y2_max)\n",
    "    axs.set_xlabel('SGLD time step')\n",
    "    axs.set_ylabel('loss')\n",
    "    axs2.set_ylabel('llc', color=llc_color)\n",
    "    axs2.tick_params(axis='y', labelcolor=llc_color)\n",
    "    axs.axhline(color='black', linestyle=':')\n",
    "    fig.suptitle(title, fontsize=16)\n",
    "    plt.tight_layout()\n",
    "    if filename is not None:\n",
    "        plt.savefig(filename)\n",
    "        plt.close()\n",
    "    else:\n",
    "        plt.show()\n",
    "\n",
    "def plot_sweep_single_model(results, epsilons, gammas, filename, **kwargs):\n",
    "    llc_color = 'teal'\n",
    "    fig, axs = plt.subplots(len(epsilons), len(gammas))\n",
    "\n",
    "    for i, epsilon in enumerate(epsilons):\n",
    "        for j, gamma in enumerate(gammas):\n",
    "            result = results[(epsilon, gamma)]\n",
    "            if result is None:\n",
    "                continue\n",
    "            # plot loss traces\n",
    "            loss_traces = result['loss/trace']\n",
    "            for trace in loss_traces:\n",
    "                init_loss = trace[0]\n",
    "                zeroed_trace = trace - init_loss\n",
    "                sgld_steps = list(range(len(trace)))\n",
    "                axs[i, j].plot(sgld_steps, zeroed_trace)\n",
    "\n",
    "            # plot llcs\n",
    "            means = result['llc/means']\n",
    "            stds = result['llc/stds']\n",
    "            sgld_steps = list(range(len(means)))\n",
    "            axs2 = axs[i, j].twinx() \n",
    "            axs2.plot(sgld_steps, means, color=llc_color, linestyle='--', linewidth=2, label=f'llc', zorder=3)\n",
    "            axs2.fill_between(sgld_steps, means - stds, means + stds, color=llc_color, alpha=0.3, zorder=2)\n",
    "\n",
    "            # center zero, assume zero is in the range of both y axes already\n",
    "            y1_min, y1_max = axs[i, j].get_ylim()\n",
    "            y2_min, y2_max = axs2.get_ylim()\n",
    "            y1_zero_ratio = abs(y1_min) / (abs(y1_min) + abs(y1_max))\n",
    "            y2_zero_ratio = abs(y2_min) / (abs(y2_min) + abs(y2_max))\n",
    "            percent_to_add = abs(y1_zero_ratio - y2_zero_ratio)\n",
    "            y1_amt_to_add = (y1_max - y1_min) * percent_to_add\n",
    "            y2_amt_to_add = (y2_max - y2_min) * percent_to_add\n",
    "            if y1_zero_ratio < y2_zero_ratio:\n",
    "                # add to bottom of y1 and top of y2\n",
    "                y1_min -= y1_amt_to_add\n",
    "                y2_max += y2_amt_to_add\n",
    "            elif y2_zero_ratio < y1_zero_ratio:\n",
    "                # add to bottom of y2 and top of y1\n",
    "                y2_min -= y2_amt_to_add\n",
    "                y1_max += y1_amt_to_add\n",
    "            axs[i, j].set_ylim(y1_min, y1_max)\n",
    "            axs2.set_ylim(y2_min, y2_max)\n",
    "            \n",
    "            axs[i, j].set_title(f\"$\\epsilon$ = {epsilon} : $\\gamma$ = {gamma}\")\n",
    "            # only show x axis label on last row\n",
    "            if i == len(epsilons) - 1:\n",
    "                axs[i, j].set_xlabel('SGLD time step')\n",
    "            axs[i, j].set_ylabel('loss')\n",
    "            axs2.set_ylabel('llc', color=llc_color)\n",
    "            axs2.tick_params(axis='y', labelcolor=llc_color)\n",
    "    if kwargs['title']:\n",
    "        fig.suptitle(kwargs['title'], fontsize=16)\n",
    "    plt.tight_layout()\n",
    "    plt.savefig(filename)"
   ]
  },
  {
   "cell_type": "code",
   "execution_count": null,
   "metadata": {},
   "outputs": [],
   "source": [
    "# Set your specific run ID here\n",
    "run_id = \"jp9tjfzd\"\n",
    "project_name = \"procgen\"\n",
    "\n",
    "# Initialize wandb API\n",
    "api = wandb.Api()\n",
    "\n",
    "# Fetch the run\n",
    "run = api.run(f\"{project_name}/{run_id}\")\n",
    "\n",
    "torch.manual_seed(1)\n",
    "\n",
    "####################\n",
    "## HYPERPARAMETERS #\n",
    "#################### \n",
    "param_name = 'easy'\n",
    "gpu_device = int(0)\n",
    "env_name = \"maze_aisc\"\n",
    "start_level = 0\n",
    "num_levels = 0\n",
    "distribution_mode = \"easy\"\n",
    "exp_name = \"hard-run\"\n",
    "seed = random.randint(0,9999)\n",
    "num_checkpoints = 0\n",
    "\n",
    "print('[LOADING HYPERPARAMETERS...]')\n",
    "with open('hyperparams/procgen/config.yml', 'r') as f:\n",
    "    hyperparameters = yaml.safe_load(f)[param_name]\n",
    "for key, value in hyperparameters.items():\n",
    "    print(key, ':', value)\n",
    "\n",
    "############\n",
    "## DEVICE ##\n",
    "############\n",
    "os.environ[\"CUDA_VISIBLE_DEVICES\"] = str(gpu_device)\n",
    "device = torch.device('cuda')\n",
    "\n",
    "#################\n",
    "## ENVIRONMENT ##\n",
    "#################\n",
    "print('INITIALIZAING ENVIRONMENTS...')\n",
    "n_steps = hyperparameters.get('n_steps', 256)\n",
    "n_envs = hyperparameters.get('n_envs', 64)\n",
    "# By default, pytorch utilizes multi-threaded cpu\n",
    "# Procgen is able to handle thousand of steps on a single core\n",
    "torch.set_num_threads(1)\n",
    "env = ProcgenEnv(num_envs=n_envs,\n",
    "                    env_name=env_name,\n",
    "                    start_level=start_level,\n",
    "                    num_levels=num_levels,\n",
    "                    distribution_mode=distribution_mode, \n",
    "                    rand_region = 5) \n",
    "normalize_rew = hyperparameters.get('normalize_rew', True)\n",
    "env = VecExtractDictObs(env, \"rgb\")\n",
    "if normalize_rew:\n",
    "    env = VecNormalize(env, ob=False) # normalizing returns, but not the img frames.\n",
    "env = TransposeFrame(env)\n",
    "env = ScaledFloatFrame(env)\n",
    "\n",
    "############\n",
    "## LOGGER ##\n",
    "############\n",
    "print('INITIALIZAING LOGGER...')\n",
    "logdir = 'procgen/' + env_name + '/' + exp_name + '/' + 'seed' + '_' + \\\n",
    "            str(seed) + '_' + time.strftime(\"%d-%m-%Y_%H-%M-%S\")\n",
    "logdir = os.path.join('logs', logdir)\n",
    "if not (os.path.exists(logdir)):\n",
    "    os.makedirs(logdir)\n",
    "logger = Logger(n_envs, logdir)\n"
   ]
  },
  {
   "cell_type": "code",
   "execution_count": null,
   "metadata": {},
   "outputs": [],
   "source": [
    "artifact_no = 8000\n",
    "print(f\"Fetching model and dataloader {artifact_no}\")\n",
    "dataloader, dataset, value_network = get_artifact_network_and_data(\n",
    "    artifact_number = artifact_no, \n",
    "    datapoints = 4000, \n",
    "    batch_size = 1000, \n",
    "    download=False\n",
    ")\n",
    "print(len(dataset))\n",
    "print(f\"Optimizing value network {artifact_no}\")\n",
    "value_network = optimize_value_network(value_network, dataloader, epochs=200)\n",
    "torch.save(value_network.state_dict(), f'value_network_local_min_{artifact_no}.pth')\n",
    "\n",
    "# print layers of value network\n",
    "for name, param in value_network.named_parameters():\n",
    "    print(name, param.shape)"
   ]
  },
  {
   "cell_type": "code",
   "execution_count": null,
   "metadata": {},
   "outputs": [],
   "source": [
    "from devinterp.slt.callback import validate_callbacks"
   ]
  },
  {
   "cell_type": "code",
   "execution_count": null,
   "metadata": {},
   "outputs": [],
   "source": [
    "# epsilons = [1e-8, 1e-9, 1e-10, 1e-11]\n",
    "# gammas = [1.0, 10, 100, 1000, 10000, 100000]\n",
    "epsilons = [1e-6]\n",
    "gammas = [1e5]\n",
    "num_chains = 3\n",
    "num_draws = 2000"
   ]
  },
  {
   "cell_type": "code",
   "execution_count": 58,
   "metadata": {},
   "outputs": [
    {
     "name": "stderr",
     "output_type": "stream",
     "text": [
      "Chain 0: 100%|██████████| 200/200 [00:09<00:00, 20.80it/s]\n",
      "Chain 1: 100%|██████████| 200/200 [00:09<00:00, 20.89it/s]\n",
      "Chain 2: 100%|██████████| 200/200 [00:09<00:00, 20.81it/s]\n",
      "  1%|          | 1/100 [00:28<47:33, 28.82s/it]"
     ]
    },
    {
     "name": "stdout",
     "output_type": "stream",
     "text": [
      "8613.512\n"
     ]
    },
    {
     "name": "stderr",
     "output_type": "stream",
     "text": [
      "Chain 0: 100%|██████████| 200/200 [00:09<00:00, 20.74it/s]\n",
      "Chain 1: 100%|██████████| 200/200 [00:09<00:00, 20.72it/s]\n",
      "Chain 2: 100%|██████████| 200/200 [00:09<00:00, 20.37it/s]\n",
      "  2%|▏         | 2/100 [00:57<47:22, 29.01s/it]"
     ]
    },
    {
     "name": "stdout",
     "output_type": "stream",
     "text": [
      "7901.0625\n"
     ]
    },
    {
     "name": "stderr",
     "output_type": "stream",
     "text": [
      "Chain 0: 100%|██████████| 200/200 [00:09<00:00, 20.68it/s]\n",
      "Chain 1: 100%|██████████| 200/200 [00:09<00:00, 20.67it/s]\n",
      "Chain 2: 100%|██████████| 200/200 [00:09<00:00, 20.67it/s]\n",
      "  3%|▎         | 3/100 [01:27<46:55, 29.03s/it]"
     ]
    },
    {
     "name": "stdout",
     "output_type": "stream",
     "text": [
      "7909.5054\n"
     ]
    },
    {
     "name": "stderr",
     "output_type": "stream",
     "text": [
      "Chain 0: 100%|██████████| 200/200 [00:09<00:00, 20.65it/s]\n",
      "Chain 1: 100%|██████████| 200/200 [00:09<00:00, 20.61it/s]\n",
      "Chain 2: 100%|██████████| 200/200 [00:09<00:00, 20.62it/s]\n",
      "  4%|▍         | 4/100 [01:56<46:29, 29.06s/it]"
     ]
    },
    {
     "name": "stdout",
     "output_type": "stream",
     "text": [
      "9147.648\n"
     ]
    },
    {
     "name": "stderr",
     "output_type": "stream",
     "text": [
      "Chain 0: 100%|██████████| 200/200 [00:09<00:00, 20.62it/s]\n",
      "Chain 1: 100%|██████████| 200/200 [00:09<00:00, 20.67it/s]\n",
      "Chain 2: 100%|██████████| 200/200 [00:09<00:00, 20.62it/s]\n",
      "  5%|▌         | 5/100 [02:25<46:02, 29.08s/it]"
     ]
    },
    {
     "name": "stdout",
     "output_type": "stream",
     "text": [
      "8750.555\n"
     ]
    },
    {
     "name": "stderr",
     "output_type": "stream",
     "text": [
      "Chain 0: 100%|██████████| 200/200 [00:09<00:00, 20.64it/s]\n",
      "Chain 1: 100%|██████████| 200/200 [00:09<00:00, 20.62it/s]\n",
      "Chain 2: 100%|██████████| 200/200 [00:09<00:00, 20.61it/s]\n",
      "  6%|▌         | 6/100 [02:54<45:34, 29.09s/it]"
     ]
    },
    {
     "name": "stdout",
     "output_type": "stream",
     "text": [
      "8035.665\n"
     ]
    },
    {
     "name": "stderr",
     "output_type": "stream",
     "text": [
      "Chain 0: 100%|██████████| 200/200 [00:09<00:00, 20.63it/s]\n",
      "Chain 1: 100%|██████████| 200/200 [00:09<00:00, 20.60it/s]\n",
      "Chain 2: 100%|██████████| 200/200 [00:09<00:00, 20.61it/s]\n",
      "  7%|▋         | 7/100 [03:23<45:06, 29.11s/it]"
     ]
    },
    {
     "name": "stdout",
     "output_type": "stream",
     "text": [
      "8838.008\n"
     ]
    },
    {
     "name": "stderr",
     "output_type": "stream",
     "text": [
      "Chain 0: 100%|██████████| 200/200 [00:09<00:00, 20.59it/s]\n",
      "Chain 1: 100%|██████████| 200/200 [00:09<00:00, 20.67it/s]\n",
      "Chain 2: 100%|██████████| 200/200 [00:09<00:00, 20.60it/s]\n",
      "  8%|▊         | 8/100 [03:52<44:38, 29.11s/it]"
     ]
    },
    {
     "name": "stdout",
     "output_type": "stream",
     "text": [
      "8125.265\n"
     ]
    },
    {
     "name": "stderr",
     "output_type": "stream",
     "text": [
      "Chain 0: 100%|██████████| 200/200 [00:09<00:00, 20.61it/s]\n",
      "Chain 1: 100%|██████████| 200/200 [00:09<00:00, 20.58it/s]\n",
      "Chain 2: 100%|██████████| 200/200 [00:09<00:00, 20.59it/s]\n",
      "  9%|▉         | 9/100 [04:21<44:10, 29.13s/it]"
     ]
    },
    {
     "name": "stdout",
     "output_type": "stream",
     "text": [
      "8669.16\n"
     ]
    },
    {
     "name": "stderr",
     "output_type": "stream",
     "text": [
      "Chain 0: 100%|██████████| 200/200 [00:09<00:00, 20.58it/s]\n",
      "Chain 1: 100%|██████████| 200/200 [00:09<00:00, 20.59it/s]\n",
      "Chain 2: 100%|██████████| 200/200 [00:09<00:00, 20.56it/s]\n",
      " 10%|█         | 10/100 [04:50<43:43, 29.15s/it]"
     ]
    },
    {
     "name": "stdout",
     "output_type": "stream",
     "text": [
      "8354.004\n"
     ]
    },
    {
     "name": "stderr",
     "output_type": "stream",
     "text": [
      "Chain 0: 100%|██████████| 200/200 [00:09<00:00, 20.60it/s]\n",
      "Chain 1: 100%|██████████| 200/200 [00:09<00:00, 20.62it/s]\n",
      "Chain 2: 100%|██████████| 200/200 [00:09<00:00, 20.28it/s]\n",
      " 11%|█         | 11/100 [05:20<43:18, 29.19s/it]"
     ]
    },
    {
     "name": "stdout",
     "output_type": "stream",
     "text": [
      "8169.173\n"
     ]
    },
    {
     "name": "stderr",
     "output_type": "stream",
     "text": [
      "Chain 0: 100%|██████████| 200/200 [00:09<00:00, 20.60it/s]\n",
      "Chain 1: 100%|██████████| 200/200 [00:09<00:00, 20.60it/s]\n",
      "Chain 2: 100%|██████████| 200/200 [00:09<00:00, 20.58it/s]\n",
      " 12%|█▏        | 12/100 [05:49<42:48, 29.18s/it]"
     ]
    },
    {
     "name": "stdout",
     "output_type": "stream",
     "text": [
      "7908.3066\n"
     ]
    },
    {
     "name": "stderr",
     "output_type": "stream",
     "text": [
      "Chain 0: 100%|██████████| 200/200 [00:09<00:00, 20.58it/s]\n",
      "Chain 1: 100%|██████████| 200/200 [00:09<00:00, 20.57it/s]\n",
      "Chain 2: 100%|██████████| 200/200 [00:09<00:00, 20.58it/s]\n",
      " 13%|█▎        | 13/100 [06:18<42:19, 29.18s/it]"
     ]
    },
    {
     "name": "stdout",
     "output_type": "stream",
     "text": [
      "8373.191\n"
     ]
    },
    {
     "name": "stderr",
     "output_type": "stream",
     "text": [
      "Chain 0: 100%|██████████| 200/200 [00:09<00:00, 20.57it/s]\n",
      "Chain 1: 100%|██████████| 200/200 [00:09<00:00, 20.60it/s]\n",
      "Chain 2: 100%|██████████| 200/200 [00:09<00:00, 20.55it/s]\n",
      " 14%|█▍        | 14/100 [06:47<41:50, 29.19s/it]"
     ]
    },
    {
     "name": "stdout",
     "output_type": "stream",
     "text": [
      "8372.605\n"
     ]
    },
    {
     "name": "stderr",
     "output_type": "stream",
     "text": [
      "Chain 0: 100%|██████████| 200/200 [00:09<00:00, 20.53it/s]\n",
      "Chain 1: 100%|██████████| 200/200 [00:09<00:00, 20.60it/s]\n",
      "Chain 2: 100%|██████████| 200/200 [00:09<00:00, 20.61it/s]\n",
      " 15%|█▌        | 15/100 [07:16<41:20, 29.18s/it]"
     ]
    },
    {
     "name": "stdout",
     "output_type": "stream",
     "text": [
      "8749.959\n"
     ]
    },
    {
     "name": "stderr",
     "output_type": "stream",
     "text": [
      "Chain 0: 100%|██████████| 200/200 [00:09<00:00, 20.59it/s]\n",
      "Chain 1: 100%|██████████| 200/200 [00:09<00:00, 20.59it/s]\n",
      "Chain 2: 100%|██████████| 200/200 [00:09<00:00, 20.55it/s]\n",
      " 16%|█▌        | 16/100 [07:46<40:51, 29.19s/it]"
     ]
    },
    {
     "name": "stdout",
     "output_type": "stream",
     "text": [
      "8393.664\n"
     ]
    },
    {
     "name": "stderr",
     "output_type": "stream",
     "text": [
      "Chain 0: 100%|██████████| 200/200 [00:09<00:00, 20.57it/s]\n",
      "Chain 1: 100%|██████████| 200/200 [00:09<00:00, 20.58it/s]\n",
      "Chain 2: 100%|██████████| 200/200 [00:09<00:00, 20.56it/s]\n",
      " 17%|█▋        | 17/100 [08:15<40:22, 29.19s/it]"
     ]
    },
    {
     "name": "stdout",
     "output_type": "stream",
     "text": [
      "8867.58\n"
     ]
    },
    {
     "name": "stderr",
     "output_type": "stream",
     "text": [
      "Chain 0: 100%|██████████| 200/200 [00:09<00:00, 20.58it/s]\n",
      "Chain 1: 100%|██████████| 200/200 [00:09<00:00, 20.59it/s]\n",
      "Chain 2: 100%|██████████| 200/200 [00:09<00:00, 20.65it/s]\n",
      " 18%|█▊        | 18/100 [08:44<39:52, 29.18s/it]"
     ]
    },
    {
     "name": "stdout",
     "output_type": "stream",
     "text": [
      "8109.464\n"
     ]
    },
    {
     "name": "stderr",
     "output_type": "stream",
     "text": [
      "Chain 0: 100%|██████████| 200/200 [00:09<00:00, 20.63it/s]\n",
      "Chain 1: 100%|██████████| 200/200 [00:09<00:00, 20.61it/s]\n",
      "Chain 2: 100%|██████████| 200/200 [00:09<00:00, 20.28it/s]\n",
      " 19%|█▉        | 19/100 [09:13<39:25, 29.21s/it]"
     ]
    },
    {
     "name": "stdout",
     "output_type": "stream",
     "text": [
      "7895.325\n"
     ]
    },
    {
     "name": "stderr",
     "output_type": "stream",
     "text": [
      "Chain 0: 100%|██████████| 200/200 [00:09<00:00, 20.57it/s]\n",
      "Chain 1: 100%|██████████| 200/200 [00:09<00:00, 20.55it/s]\n",
      "Chain 2: 100%|██████████| 200/200 [00:09<00:00, 20.56it/s]\n",
      " 20%|██        | 20/100 [09:43<38:56, 29.21s/it]"
     ]
    },
    {
     "name": "stdout",
     "output_type": "stream",
     "text": [
      "8480.669\n"
     ]
    },
    {
     "name": "stderr",
     "output_type": "stream",
     "text": [
      "Chain 0: 100%|██████████| 200/200 [00:09<00:00, 20.55it/s]\n",
      "Chain 1: 100%|██████████| 200/200 [00:09<00:00, 20.52it/s]\n",
      "Chain 2: 100%|██████████| 200/200 [00:09<00:00, 20.56it/s]\n",
      " 21%|██        | 21/100 [10:12<38:28, 29.22s/it]"
     ]
    },
    {
     "name": "stdout",
     "output_type": "stream",
     "text": [
      "8329.572\n"
     ]
    },
    {
     "name": "stderr",
     "output_type": "stream",
     "text": [
      "Chain 0: 100%|██████████| 200/200 [00:09<00:00, 20.57it/s]\n",
      "Chain 1: 100%|██████████| 200/200 [00:09<00:00, 20.56it/s]\n",
      "Chain 2: 100%|██████████| 200/200 [00:09<00:00, 20.56it/s]\n",
      " 22%|██▏       | 22/100 [10:41<37:58, 29.21s/it]"
     ]
    },
    {
     "name": "stdout",
     "output_type": "stream",
     "text": [
      "8148.8623\n"
     ]
    },
    {
     "name": "stderr",
     "output_type": "stream",
     "text": [
      "Chain 0: 100%|██████████| 200/200 [00:09<00:00, 20.60it/s]\n",
      "Chain 1: 100%|██████████| 200/200 [00:09<00:00, 20.59it/s]\n",
      "Chain 2: 100%|██████████| 200/200 [00:11<00:00, 17.99it/s]\n",
      " 23%|██▎       | 23/100 [11:12<38:00, 29.62s/it]"
     ]
    },
    {
     "name": "stdout",
     "output_type": "stream",
     "text": [
      "8383.684\n"
     ]
    },
    {
     "name": "stderr",
     "output_type": "stream",
     "text": [
      "Chain 0: 100%|██████████| 200/200 [00:14<00:00, 13.62it/s]\n",
      "Chain 1: 100%|██████████| 200/200 [00:09<00:00, 20.59it/s]\n",
      "Chain 2: 100%|██████████| 200/200 [00:09<00:00, 20.61it/s]\n",
      " 24%|██▍       | 24/100 [11:46<39:14, 30.98s/it]"
     ]
    },
    {
     "name": "stdout",
     "output_type": "stream",
     "text": [
      "8359.635\n"
     ]
    },
    {
     "name": "stderr",
     "output_type": "stream",
     "text": [
      "Chain 0: 100%|██████████| 200/200 [00:09<00:00, 20.58it/s]\n",
      "Chain 1: 100%|██████████| 200/200 [00:10<00:00, 19.69it/s]\n",
      "Chain 2: 100%|██████████| 200/200 [00:14<00:00, 13.57it/s]\n",
      " 25%|██▌       | 25/100 [12:20<40:05, 32.08s/it]"
     ]
    },
    {
     "name": "stdout",
     "output_type": "stream",
     "text": [
      "8096.6885\n"
     ]
    },
    {
     "name": "stderr",
     "output_type": "stream",
     "text": [
      "Chain 0: 100%|██████████| 200/200 [00:09<00:00, 20.55it/s]\n",
      "Chain 1: 100%|██████████| 200/200 [00:09<00:00, 20.58it/s]\n",
      "Chain 2: 100%|██████████| 200/200 [00:09<00:00, 20.61it/s]\n",
      " 26%|██▌       | 26/100 [12:49<38:29, 31.21s/it]"
     ]
    },
    {
     "name": "stdout",
     "output_type": "stream",
     "text": [
      "8114.7827\n"
     ]
    },
    {
     "name": "stderr",
     "output_type": "stream",
     "text": [
      "Chain 0: 100%|██████████| 200/200 [00:09<00:00, 20.59it/s]\n",
      "Chain 1: 100%|██████████| 200/200 [00:09<00:00, 20.58it/s]\n",
      "Chain 2: 100%|██████████| 200/200 [00:09<00:00, 20.51it/s]\n",
      " 27%|██▋       | 27/100 [13:19<37:14, 30.61s/it]"
     ]
    },
    {
     "name": "stdout",
     "output_type": "stream",
     "text": [
      "8469.666\n"
     ]
    },
    {
     "name": "stderr",
     "output_type": "stream",
     "text": [
      "Chain 0: 100%|██████████| 200/200 [00:13<00:00, 14.88it/s]\n",
      "Chain 1: 100%|██████████| 200/200 [00:18<00:00, 10.72it/s]\n",
      "Chain 2: 100%|██████████| 200/200 [00:18<00:00, 10.80it/s]\n",
      " 28%|██▊       | 28/100 [14:09<43:56, 36.62s/it]"
     ]
    },
    {
     "name": "stdout",
     "output_type": "stream",
     "text": [
      "8268.955\n"
     ]
    },
    {
     "name": "stderr",
     "output_type": "stream",
     "text": [
      "Chain 0: 100%|██████████| 200/200 [00:18<00:00, 10.76it/s]\n",
      "Chain 1: 100%|██████████| 200/200 [00:18<00:00, 10.73it/s]\n",
      "Chain 2: 100%|██████████| 200/200 [00:18<00:00, 10.82it/s]\n",
      " 29%|██▉       | 29/100 [15:05<50:07, 42.36s/it]"
     ]
    },
    {
     "name": "stdout",
     "output_type": "stream",
     "text": [
      "7717.664\n"
     ]
    },
    {
     "name": "stderr",
     "output_type": "stream",
     "text": [
      "Chain 0: 100%|██████████| 200/200 [00:19<00:00, 10.01it/s]\n",
      "Chain 1: 100%|██████████| 200/200 [00:21<00:00,  9.18it/s]\n",
      "Chain 2: 100%|██████████| 200/200 [00:21<00:00,  9.18it/s]\n",
      " 30%|███       | 30/100 [16:09<56:51, 48.73s/it]"
     ]
    },
    {
     "name": "stdout",
     "output_type": "stream",
     "text": [
      "8304.129\n"
     ]
    },
    {
     "name": "stderr",
     "output_type": "stream",
     "text": [
      "Chain 0: 100%|██████████| 200/200 [00:17<00:00, 11.26it/s]\n",
      "Chain 1: 100%|██████████| 200/200 [00:18<00:00, 10.81it/s]\n",
      "Chain 2: 100%|██████████| 200/200 [00:18<00:00, 10.79it/s]\n",
      " 31%|███       | 31/100 [17:04<58:09, 50.57s/it]"
     ]
    },
    {
     "name": "stdout",
     "output_type": "stream",
     "text": [
      "8465.01\n"
     ]
    },
    {
     "name": "stderr",
     "output_type": "stream",
     "text": [
      "Chain 0: 100%|██████████| 200/200 [00:18<00:00, 10.79it/s]\n",
      "Chain 1: 100%|██████████| 200/200 [00:18<00:00, 10.74it/s]\n",
      "Chain 2: 100%|██████████| 200/200 [00:17<00:00, 11.38it/s]\n",
      " 32%|███▏      | 32/100 [17:58<58:44, 51.83s/it]"
     ]
    },
    {
     "name": "stdout",
     "output_type": "stream",
     "text": [
      "8182.4233\n"
     ]
    },
    {
     "name": "stderr",
     "output_type": "stream",
     "text": [
      "Chain 0: 100%|██████████| 200/200 [00:21<00:00,  9.16it/s]\n",
      "Chain 1: 100%|██████████| 200/200 [00:21<00:00,  9.17it/s]\n",
      "Chain 2: 100%|██████████| 200/200 [00:21<00:00,  9.41it/s]\n",
      " 33%|███▎      | 33/100 [19:03<1:02:15, 55.76s/it]"
     ]
    },
    {
     "name": "stdout",
     "output_type": "stream",
     "text": [
      "8327.554\n"
     ]
    },
    {
     "name": "stderr",
     "output_type": "stream",
     "text": [
      "Chain 0: 100%|██████████| 200/200 [00:17<00:00, 11.41it/s]\n",
      "Chain 1: 100%|██████████| 200/200 [00:18<00:00, 10.81it/s]\n",
      "Chain 2: 100%|██████████| 200/200 [00:18<00:00, 10.76it/s]\n",
      " 34%|███▍      | 34/100 [19:58<1:00:58, 55.43s/it]"
     ]
    },
    {
     "name": "stdout",
     "output_type": "stream",
     "text": [
      "8441.107\n"
     ]
    },
    {
     "name": "stderr",
     "output_type": "stream",
     "text": [
      "Chain 0: 100%|██████████| 200/200 [00:18<00:00, 10.80it/s]\n",
      "Chain 1: 100%|██████████| 200/200 [00:18<00:00, 10.79it/s]\n",
      "Chain 2: 100%|██████████| 200/200 [00:18<00:00, 11.01it/s]\n",
      " 35%|███▌      | 35/100 [20:53<59:59, 55.37s/it]  "
     ]
    },
    {
     "name": "stdout",
     "output_type": "stream",
     "text": [
      "8446.422\n"
     ]
    },
    {
     "name": "stderr",
     "output_type": "stream",
     "text": [
      "Chain 0: 100%|██████████| 200/200 [00:21<00:00,  9.18it/s]\n",
      "Chain 1: 100%|██████████| 200/200 [00:21<00:00,  9.14it/s]\n",
      "Chain 2: 100%|██████████| 200/200 [00:19<00:00, 10.34it/s]\n",
      " 36%|███▌      | 36/100 [21:56<1:01:31, 57.68s/it]"
     ]
    },
    {
     "name": "stdout",
     "output_type": "stream",
     "text": [
      "8303.054\n"
     ]
    },
    {
     "name": "stderr",
     "output_type": "stream",
     "text": [
      "Chain 0: 100%|██████████| 200/200 [00:18<00:00, 10.80it/s]\n",
      "Chain 1: 100%|██████████| 200/200 [00:18<00:00, 10.78it/s]\n",
      "Chain 2: 100%|██████████| 200/200 [00:18<00:00, 10.81it/s]\n",
      " 37%|███▋      | 37/100 [22:52<59:54, 57.06s/it]  "
     ]
    },
    {
     "name": "stdout",
     "output_type": "stream",
     "text": [
      "8006.285\n"
     ]
    },
    {
     "name": "stderr",
     "output_type": "stream",
     "text": [
      "Chain 0: 100%|██████████| 200/200 [00:18<00:00, 10.80it/s]\n",
      "Chain 1: 100%|██████████| 200/200 [00:18<00:00, 10.69it/s]\n",
      "Chain 2: 100%|██████████| 200/200 [00:19<00:00, 10.36it/s]\n",
      " 38%|███▊      | 38/100 [23:48<58:48, 56.91s/it]"
     ]
    },
    {
     "name": "stdout",
     "output_type": "stream",
     "text": [
      "8245.348\n"
     ]
    },
    {
     "name": "stderr",
     "output_type": "stream",
     "text": [
      "Chain 0: 100%|██████████| 200/200 [00:21<00:00,  9.17it/s]\n",
      "Chain 1: 100%|██████████| 200/200 [00:21<00:00,  9.18it/s]\n",
      "Chain 2: 100%|██████████| 200/200 [00:18<00:00, 10.79it/s]\n",
      " 39%|███▉      | 39/100 [24:51<59:27, 58.49s/it]"
     ]
    },
    {
     "name": "stdout",
     "output_type": "stream",
     "text": [
      "8365.826\n"
     ]
    },
    {
     "name": "stderr",
     "output_type": "stream",
     "text": [
      "Chain 0: 100%|██████████| 200/200 [00:18<00:00, 10.83it/s]\n",
      "Chain 1: 100%|██████████| 200/200 [00:18<00:00, 10.79it/s]\n",
      "Chain 2: 100%|██████████| 200/200 [00:18<00:00, 10.77it/s]\n",
      " 40%|████      | 40/100 [25:46<57:37, 57.63s/it]"
     ]
    },
    {
     "name": "stdout",
     "output_type": "stream",
     "text": [
      "8070.1934\n"
     ]
    },
    {
     "name": "stderr",
     "output_type": "stream",
     "text": [
      "Chain 0: 100%|██████████| 200/200 [00:18<00:00, 10.75it/s]\n",
      "Chain 1: 100%|██████████| 200/200 [00:18<00:00, 10.79it/s]\n",
      "Chain 2: 100%|██████████| 200/200 [00:20<00:00,  9.95it/s]\n",
      " 41%|████      | 41/100 [26:43<56:33, 57.52s/it]"
     ]
    },
    {
     "name": "stdout",
     "output_type": "stream",
     "text": [
      "8722.705\n"
     ]
    },
    {
     "name": "stderr",
     "output_type": "stream",
     "text": [
      "Chain 0: 100%|██████████| 200/200 [00:21<00:00,  9.21it/s]\n",
      "Chain 1: 100%|██████████| 200/200 [00:21<00:00,  9.17it/s]\n",
      "Chain 2: 100%|██████████| 200/200 [00:17<00:00, 11.28it/s]\n",
      " 42%|████▏     | 42/100 [27:45<56:41, 58.65s/it]"
     ]
    },
    {
     "name": "stdout",
     "output_type": "stream",
     "text": [
      "8194.849\n"
     ]
    },
    {
     "name": "stderr",
     "output_type": "stream",
     "text": [
      "Chain 0: 100%|██████████| 200/200 [00:18<00:00, 10.81it/s]\n",
      "Chain 1: 100%|██████████| 200/200 [00:18<00:00, 10.74it/s]\n",
      "Chain 2: 100%|██████████| 200/200 [00:18<00:00, 10.76it/s]\n",
      " 43%|████▎     | 43/100 [28:40<54:53, 57.78s/it]"
     ]
    },
    {
     "name": "stdout",
     "output_type": "stream",
     "text": [
      "8659.249\n"
     ]
    },
    {
     "name": "stderr",
     "output_type": "stream",
     "text": [
      "Chain 0: 100%|██████████| 200/200 [00:18<00:00, 10.79it/s]\n",
      "Chain 1: 100%|██████████| 200/200 [00:17<00:00, 11.52it/s]\n",
      "Chain 2: 100%|██████████| 200/200 [00:21<00:00,  9.16it/s]\n",
      " 44%|████▍     | 44/100 [29:38<53:55, 57.78s/it]"
     ]
    },
    {
     "name": "stdout",
     "output_type": "stream",
     "text": [
      "8071.118\n"
     ]
    },
    {
     "name": "stderr",
     "output_type": "stream",
     "text": [
      "Chain 0: 100%|██████████| 200/200 [00:21<00:00,  9.15it/s]\n",
      "Chain 1: 100%|██████████| 200/200 [00:21<00:00,  9.50it/s]\n",
      "Chain 2: 100%|██████████| 200/200 [00:17<00:00, 11.26it/s]\n",
      " 45%|████▌     | 45/100 [30:39<53:46, 58.65s/it]"
     ]
    },
    {
     "name": "stdout",
     "output_type": "stream",
     "text": [
      "8422.828\n"
     ]
    },
    {
     "name": "stderr",
     "output_type": "stream",
     "text": [
      "Chain 0: 100%|██████████| 200/200 [00:18<00:00, 10.80it/s]\n",
      "Chain 1: 100%|██████████| 200/200 [00:18<00:00, 10.79it/s]\n",
      "Chain 2: 100%|██████████| 200/200 [00:18<00:00, 10.71it/s]\n",
      " 46%|████▌     | 46/100 [31:35<52:00, 57.79s/it]"
     ]
    },
    {
     "name": "stdout",
     "output_type": "stream",
     "text": [
      "7905.912\n"
     ]
    },
    {
     "name": "stderr",
     "output_type": "stream",
     "text": [
      "Chain 0: 100%|██████████| 200/200 [00:18<00:00, 10.74it/s]\n",
      "Chain 1: 100%|██████████| 200/200 [00:18<00:00, 10.92it/s]\n",
      "Chain 2: 100%|██████████| 200/200 [00:21<00:00,  9.15it/s]\n",
      " 47%|████▋     | 47/100 [32:34<51:19, 58.10s/it]"
     ]
    },
    {
     "name": "stdout",
     "output_type": "stream",
     "text": [
      "9017.371\n"
     ]
    },
    {
     "name": "stderr",
     "output_type": "stream",
     "text": [
      "Chain 0: 100%|██████████| 200/200 [00:21<00:00,  9.16it/s]\n",
      "Chain 1: 100%|██████████| 200/200 [00:18<00:00, 10.98it/s]\n",
      "Chain 2: 100%|██████████| 200/200 [00:18<00:00, 10.80it/s]\n",
      " 48%|████▊     | 48/100 [33:32<50:29, 58.25s/it]"
     ]
    },
    {
     "name": "stdout",
     "output_type": "stream",
     "text": [
      "7995.995\n"
     ]
    },
    {
     "name": "stderr",
     "output_type": "stream",
     "text": [
      "Chain 0: 100%|██████████| 200/200 [00:18<00:00, 10.78it/s]\n",
      "Chain 1: 100%|██████████| 200/200 [00:18<00:00, 10.80it/s]\n",
      "Chain 2: 100%|██████████| 200/200 [00:18<00:00, 10.78it/s]\n",
      " 49%|████▉     | 49/100 [34:28<48:51, 57.48s/it]"
     ]
    },
    {
     "name": "stdout",
     "output_type": "stream",
     "text": [
      "8054.5654\n"
     ]
    },
    {
     "name": "stderr",
     "output_type": "stream",
     "text": [
      "Chain 0: 100%|██████████| 200/200 [00:18<00:00, 10.78it/s]\n",
      "Chain 1: 100%|██████████| 200/200 [00:18<00:00, 10.56it/s]\n",
      "Chain 2: 100%|██████████| 200/200 [00:21<00:00,  9.16it/s]\n",
      " 50%|█████     | 50/100 [35:27<48:22, 58.05s/it]"
     ]
    },
    {
     "name": "stdout",
     "output_type": "stream",
     "text": [
      "8110.568\n"
     ]
    },
    {
     "name": "stderr",
     "output_type": "stream",
     "text": [
      "Chain 0: 100%|██████████| 200/200 [00:21<00:00,  9.16it/s]\n",
      "Chain 1: 100%|██████████| 200/200 [00:18<00:00, 10.60it/s]\n",
      "Chain 2: 100%|██████████| 200/200 [00:18<00:00, 10.82it/s]\n",
      " 51%|█████     | 51/100 [36:26<47:41, 58.40s/it]"
     ]
    },
    {
     "name": "stdout",
     "output_type": "stream",
     "text": [
      "8487.244\n"
     ]
    },
    {
     "name": "stderr",
     "output_type": "stream",
     "text": [
      "Chain 0: 100%|██████████| 200/200 [00:18<00:00, 10.80it/s]\n",
      "Chain 1: 100%|██████████| 200/200 [00:18<00:00, 10.83it/s]\n",
      "Chain 2: 100%|██████████| 200/200 [00:18<00:00, 10.75it/s]\n",
      " 52%|█████▏    | 52/100 [37:22<46:03, 57.56s/it]"
     ]
    },
    {
     "name": "stdout",
     "output_type": "stream",
     "text": [
      "8261.506\n"
     ]
    },
    {
     "name": "stderr",
     "output_type": "stream",
     "text": [
      "Chain 0: 100%|██████████| 200/200 [00:18<00:00, 10.75it/s]\n",
      "Chain 1: 100%|██████████| 200/200 [00:19<00:00, 10.21it/s]\n",
      "Chain 2: 100%|██████████| 200/200 [00:21<00:00,  9.19it/s]\n",
      " 53%|█████▎    | 53/100 [38:22<45:39, 58.29s/it]"
     ]
    },
    {
     "name": "stdout",
     "output_type": "stream",
     "text": [
      "8623.445\n"
     ]
    },
    {
     "name": "stderr",
     "output_type": "stream",
     "text": [
      "Chain 0: 100%|██████████| 200/200 [00:21<00:00,  9.18it/s]\n",
      "Chain 1: 100%|██████████| 200/200 [00:18<00:00, 11.07it/s]\n",
      "Chain 2: 100%|██████████| 200/200 [00:18<00:00, 10.84it/s]\n",
      " 54%|█████▍    | 54/100 [39:20<44:42, 58.31s/it]"
     ]
    },
    {
     "name": "stdout",
     "output_type": "stream",
     "text": [
      "8208.467\n"
     ]
    },
    {
     "name": "stderr",
     "output_type": "stream",
     "text": [
      "Chain 0: 100%|██████████| 200/200 [00:18<00:00, 10.76it/s]\n",
      "Chain 1: 100%|██████████| 200/200 [00:18<00:00, 10.82it/s]\n",
      "Chain 2: 100%|██████████| 200/200 [00:18<00:00, 10.79it/s]\n",
      " 55%|█████▌    | 55/100 [40:16<43:07, 57.51s/it]"
     ]
    },
    {
     "name": "stdout",
     "output_type": "stream",
     "text": [
      "9253.49\n"
     ]
    },
    {
     "name": "stderr",
     "output_type": "stream",
     "text": [
      "Chain 0: 100%|██████████| 200/200 [00:18<00:00, 11.03it/s]\n",
      "Chain 1: 100%|██████████| 200/200 [00:21<00:00,  9.42it/s]\n",
      "Chain 2: 100%|██████████| 200/200 [00:21<00:00,  9.17it/s]\n",
      " 56%|█████▌    | 56/100 [41:17<42:59, 58.62s/it]"
     ]
    },
    {
     "name": "stdout",
     "output_type": "stream",
     "text": [
      "8579.098\n"
     ]
    },
    {
     "name": "stderr",
     "output_type": "stream",
     "text": [
      "Chain 0: 100%|██████████| 200/200 [00:21<00:00,  9.16it/s]\n",
      "Chain 1: 100%|██████████| 200/200 [00:17<00:00, 11.57it/s]\n",
      "Chain 2: 100%|██████████| 200/200 [00:18<00:00, 10.80it/s]\n",
      " 57%|█████▋    | 57/100 [42:15<41:48, 58.34s/it]"
     ]
    },
    {
     "name": "stdout",
     "output_type": "stream",
     "text": [
      "8141.65\n"
     ]
    },
    {
     "name": "stderr",
     "output_type": "stream",
     "text": [
      "Chain 0: 100%|██████████| 200/200 [00:18<00:00, 10.78it/s]\n",
      "Chain 1: 100%|██████████| 200/200 [00:18<00:00, 10.82it/s]\n",
      "Chain 2: 100%|██████████| 200/200 [00:18<00:00, 10.87it/s]\n",
      " 58%|█████▊    | 58/100 [43:10<40:14, 57.48s/it]"
     ]
    },
    {
     "name": "stdout",
     "output_type": "stream",
     "text": [
      "8756.635\n"
     ]
    },
    {
     "name": "stderr",
     "output_type": "stream",
     "text": [
      "Chain 0: 100%|██████████| 200/200 [00:17<00:00, 11.13it/s]\n",
      "Chain 1: 100%|██████████| 200/200 [00:21<00:00,  9.14it/s]\n",
      "Chain 2: 100%|██████████| 200/200 [00:21<00:00,  9.17it/s]\n",
      " 59%|█████▉    | 59/100 [44:12<40:08, 58.74s/it]"
     ]
    },
    {
     "name": "stdout",
     "output_type": "stream",
     "text": [
      "8682.203\n"
     ]
    },
    {
     "name": "stderr",
     "output_type": "stream",
     "text": [
      "Chain 0: 100%|██████████| 200/200 [00:19<00:00, 10.12it/s]\n",
      "Chain 1: 100%|██████████| 200/200 [00:18<00:00, 10.82it/s]\n",
      "Chain 2: 100%|██████████| 200/200 [00:18<00:00, 10.83it/s]\n",
      " 60%|██████    | 60/100 [45:09<38:45, 58.15s/it]"
     ]
    },
    {
     "name": "stdout",
     "output_type": "stream",
     "text": [
      "7907.1895\n"
     ]
    },
    {
     "name": "stderr",
     "output_type": "stream",
     "text": [
      "Chain 0: 100%|██████████| 200/200 [00:18<00:00, 10.84it/s]\n",
      "Chain 1: 100%|██████████| 200/200 [00:18<00:00, 10.74it/s]\n",
      "Chain 2: 100%|██████████| 200/200 [00:18<00:00, 10.83it/s]\n",
      " 61%|██████    | 61/100 [46:04<37:17, 57.38s/it]"
     ]
    },
    {
     "name": "stdout",
     "output_type": "stream",
     "text": [
      "8850.765\n"
     ]
    },
    {
     "name": "stderr",
     "output_type": "stream",
     "text": [
      "Chain 0: 100%|██████████| 200/200 [00:18<00:00, 10.76it/s]\n",
      "Chain 1: 100%|██████████| 200/200 [00:21<00:00,  9.15it/s]\n",
      "Chain 2: 100%|██████████| 200/200 [00:21<00:00,  9.15it/s]\n",
      " 62%|██████▏   | 62/100 [47:07<37:16, 58.87s/it]"
     ]
    },
    {
     "name": "stdout",
     "output_type": "stream",
     "text": [
      "8823.761\n"
     ]
    },
    {
     "name": "stderr",
     "output_type": "stream",
     "text": [
      "Chain 0: 100%|██████████| 200/200 [00:18<00:00, 10.53it/s]\n",
      "Chain 1: 100%|██████████| 200/200 [00:18<00:00, 10.78it/s]\n",
      "Chain 2: 100%|██████████| 200/200 [00:18<00:00, 10.77it/s]\n",
      " 63%|██████▎   | 63/100 [48:03<35:48, 58.06s/it]"
     ]
    },
    {
     "name": "stdout",
     "output_type": "stream",
     "text": [
      "8243.256\n"
     ]
    },
    {
     "name": "stderr",
     "output_type": "stream",
     "text": [
      "Chain 0: 100%|██████████| 200/200 [00:18<00:00, 10.83it/s]\n",
      "Chain 1: 100%|██████████| 200/200 [00:18<00:00, 10.82it/s]\n",
      "Chain 2: 100%|██████████| 200/200 [00:18<00:00, 10.72it/s]\n",
      " 64%|██████▍   | 64/100 [48:59<34:23, 57.33s/it]"
     ]
    },
    {
     "name": "stdout",
     "output_type": "stream",
     "text": [
      "8493.042\n"
     ]
    },
    {
     "name": "stderr",
     "output_type": "stream",
     "text": [
      "Chain 0: 100%|██████████| 200/200 [00:19<00:00, 10.09it/s]\n",
      "Chain 1: 100%|██████████| 200/200 [00:21<00:00,  9.15it/s]\n",
      "Chain 2: 100%|██████████| 200/200 [00:21<00:00,  9.15it/s]\n",
      " 65%|██████▌   | 65/100 [50:02<34:32, 59.20s/it]"
     ]
    },
    {
     "name": "stdout",
     "output_type": "stream",
     "text": [
      "8479.512\n"
     ]
    },
    {
     "name": "stderr",
     "output_type": "stream",
     "text": [
      "Chain 0: 100%|██████████| 200/200 [00:18<00:00, 11.08it/s]\n",
      "Chain 1: 100%|██████████| 200/200 [00:18<00:00, 10.79it/s]\n",
      "Chain 2: 100%|██████████| 200/200 [00:18<00:00, 10.80it/s]\n",
      " 66%|██████▌   | 66/100 [50:57<32:51, 57.98s/it]"
     ]
    },
    {
     "name": "stdout",
     "output_type": "stream",
     "text": [
      "8503.137\n"
     ]
    },
    {
     "name": "stderr",
     "output_type": "stream",
     "text": [
      "Chain 0: 100%|██████████| 200/200 [00:18<00:00, 10.80it/s]\n",
      "Chain 1: 100%|██████████| 200/200 [00:18<00:00, 10.83it/s]\n",
      "Chain 2: 100%|██████████| 200/200 [00:17<00:00, 11.16it/s]\n",
      " 67%|██████▋   | 67/100 [51:52<31:23, 57.08s/it]"
     ]
    },
    {
     "name": "stdout",
     "output_type": "stream",
     "text": [
      "8390.948\n"
     ]
    },
    {
     "name": "stderr",
     "output_type": "stream",
     "text": [
      "Chain 0: 100%|██████████| 200/200 [00:21<00:00,  9.46it/s]\n",
      "Chain 1: 100%|██████████| 200/200 [00:21<00:00,  9.14it/s]\n",
      "Chain 2: 100%|██████████| 200/200 [00:21<00:00,  9.15it/s]\n",
      " 68%|██████▊   | 68/100 [52:57<31:41, 59.42s/it]"
     ]
    },
    {
     "name": "stdout",
     "output_type": "stream",
     "text": [
      "8772.82\n"
     ]
    },
    {
     "name": "stderr",
     "output_type": "stream",
     "text": [
      "Chain 0: 100%|██████████| 200/200 [00:17<00:00, 11.65it/s]\n",
      "Chain 1: 100%|██████████| 200/200 [00:18<00:00, 10.83it/s]\n",
      "Chain 2: 100%|██████████| 200/200 [00:18<00:00, 10.75it/s]\n",
      " 69%|██████▉   | 69/100 [53:51<29:54, 57.88s/it]"
     ]
    },
    {
     "name": "stdout",
     "output_type": "stream",
     "text": [
      "8412.991\n"
     ]
    },
    {
     "name": "stderr",
     "output_type": "stream",
     "text": [
      "Chain 0: 100%|██████████| 200/200 [00:18<00:00, 10.84it/s]\n",
      "Chain 1: 100%|██████████| 200/200 [00:18<00:00, 10.82it/s]\n",
      "Chain 2: 100%|██████████| 200/200 [00:17<00:00, 11.19it/s]\n",
      " 70%|███████   | 70/100 [54:46<28:28, 56.96s/it]"
     ]
    },
    {
     "name": "stdout",
     "output_type": "stream",
     "text": [
      "8389.936\n"
     ]
    },
    {
     "name": "stderr",
     "output_type": "stream",
     "text": [
      "Chain 0: 100%|██████████| 200/200 [00:21<00:00,  9.16it/s]\n",
      "Chain 1: 100%|██████████| 200/200 [00:21<00:00,  9.22it/s]\n",
      "Chain 2: 100%|██████████| 200/200 [00:19<00:00, 10.05it/s]\n",
      " 71%|███████   | 71/100 [55:50<28:28, 58.92s/it]"
     ]
    },
    {
     "name": "stdout",
     "output_type": "stream",
     "text": [
      "8226.168\n"
     ]
    },
    {
     "name": "stderr",
     "output_type": "stream",
     "text": [
      "Chain 0: 100%|██████████| 200/200 [00:18<00:00, 10.80it/s]\n",
      "Chain 1: 100%|██████████| 200/200 [00:18<00:00, 10.81it/s]\n",
      "Chain 2: 100%|██████████| 200/200 [00:18<00:00, 10.84it/s]\n",
      " 72%|███████▏  | 72/100 [56:45<27:00, 57.89s/it]"
     ]
    },
    {
     "name": "stdout",
     "output_type": "stream",
     "text": [
      "8588.015\n"
     ]
    },
    {
     "name": "stderr",
     "output_type": "stream",
     "text": [
      "Chain 0: 100%|██████████| 200/200 [00:18<00:00, 10.73it/s]\n",
      "Chain 1: 100%|██████████| 200/200 [00:18<00:00, 10.80it/s]\n",
      "Chain 2: 100%|██████████| 200/200 [00:18<00:00, 10.78it/s]\n",
      " 73%|███████▎  | 73/100 [57:41<25:45, 57.25s/it]"
     ]
    },
    {
     "name": "stdout",
     "output_type": "stream",
     "text": [
      "8407.821\n"
     ]
    },
    {
     "name": "stderr",
     "output_type": "stream",
     "text": [
      "Chain 0: 100%|██████████| 200/200 [00:21<00:00,  9.17it/s]\n",
      "Chain 1: 100%|██████████| 200/200 [00:21<00:00,  9.17it/s]\n",
      "Chain 2: 100%|██████████| 200/200 [00:19<00:00, 10.49it/s]\n",
      " 74%|███████▍  | 74/100 [58:44<25:31, 58.89s/it]"
     ]
    },
    {
     "name": "stdout",
     "output_type": "stream",
     "text": [
      "8456.324\n"
     ]
    },
    {
     "name": "stderr",
     "output_type": "stream",
     "text": [
      "Chain 0: 100%|██████████| 200/200 [00:18<00:00, 10.82it/s]\n",
      "Chain 1: 100%|██████████| 200/200 [00:18<00:00, 10.81it/s]\n",
      "Chain 2: 100%|██████████| 200/200 [00:18<00:00, 10.76it/s]\n",
      " 75%|███████▌  | 75/100 [59:39<24:07, 57.91s/it]"
     ]
    },
    {
     "name": "stdout",
     "output_type": "stream",
     "text": [
      "8030.6304\n"
     ]
    },
    {
     "name": "stderr",
     "output_type": "stream",
     "text": [
      "Chain 0: 100%|██████████| 200/200 [00:18<00:00, 10.82it/s]\n",
      "Chain 1: 100%|██████████| 200/200 [00:18<00:00, 10.84it/s]\n",
      "Chain 2: 100%|██████████| 200/200 [00:19<00:00, 10.25it/s]\n",
      " 76%|███████▌  | 76/100 [1:00:36<22:59, 57.49s/it]"
     ]
    },
    {
     "name": "stdout",
     "output_type": "stream",
     "text": [
      "8290.699\n"
     ]
    },
    {
     "name": "stderr",
     "output_type": "stream",
     "text": [
      "Chain 0: 100%|██████████| 200/200 [00:21<00:00,  9.16it/s]\n",
      "Chain 1: 100%|██████████| 200/200 [00:21<00:00,  9.17it/s]\n",
      "Chain 2: 100%|██████████| 200/200 [00:18<00:00, 10.97it/s]\n",
      " 77%|███████▋  | 77/100 [1:01:38<22:32, 58.81s/it]"
     ]
    },
    {
     "name": "stdout",
     "output_type": "stream",
     "text": [
      "8188.59\n"
     ]
    },
    {
     "name": "stderr",
     "output_type": "stream",
     "text": [
      "Chain 0: 100%|██████████| 200/200 [00:18<00:00, 10.80it/s]\n",
      "Chain 1: 100%|██████████| 200/200 [00:18<00:00, 10.82it/s]\n",
      "Chain 2: 100%|██████████| 200/200 [00:18<00:00, 10.83it/s]\n",
      " 78%|███████▊  | 78/100 [1:02:33<21:12, 57.83s/it]"
     ]
    },
    {
     "name": "stdout",
     "output_type": "stream",
     "text": [
      "8419.949\n"
     ]
    },
    {
     "name": "stderr",
     "output_type": "stream",
     "text": [
      "Chain 0: 100%|██████████| 200/200 [00:18<00:00, 10.81it/s]\n",
      "Chain 1: 100%|██████████| 200/200 [00:18<00:00, 10.82it/s]\n",
      "Chain 2: 100%|██████████| 200/200 [00:20<00:00,  9.85it/s]\n",
      " 79%|███████▉  | 79/100 [1:03:31<20:11, 57.68s/it]"
     ]
    },
    {
     "name": "stdout",
     "output_type": "stream",
     "text": [
      "8268.63\n"
     ]
    },
    {
     "name": "stderr",
     "output_type": "stream",
     "text": [
      "Chain 0: 100%|██████████| 200/200 [00:21<00:00,  9.16it/s]\n",
      "Chain 1: 100%|██████████| 200/200 [00:21<00:00,  9.16it/s]\n",
      "Chain 2: 100%|██████████| 200/200 [00:17<00:00, 11.50it/s]\n",
      " 80%|████████  | 80/100 [1:04:32<19:34, 58.71s/it]"
     ]
    },
    {
     "name": "stdout",
     "output_type": "stream",
     "text": [
      "8092.0015\n"
     ]
    },
    {
     "name": "stderr",
     "output_type": "stream",
     "text": [
      "Chain 0: 100%|██████████| 200/200 [00:18<00:00, 10.80it/s]\n",
      "Chain 1: 100%|██████████| 200/200 [00:18<00:00, 10.79it/s]\n",
      "Chain 2: 100%|██████████| 200/200 [00:18<00:00, 10.73it/s]\n",
      " 81%|████████  | 81/100 [1:05:27<18:18, 57.81s/it]"
     ]
    },
    {
     "name": "stdout",
     "output_type": "stream",
     "text": [
      "8056.4272\n"
     ]
    },
    {
     "name": "stderr",
     "output_type": "stream",
     "text": [
      "Chain 0: 100%|██████████| 200/200 [00:18<00:00, 10.81it/s]\n",
      "Chain 1: 100%|██████████| 200/200 [00:17<00:00, 11.26it/s]\n",
      "Chain 2: 100%|██████████| 200/200 [00:22<00:00,  9.09it/s]\n",
      " 82%|████████▏ | 82/100 [1:06:26<17:23, 57.95s/it]"
     ]
    },
    {
     "name": "stdout",
     "output_type": "stream",
     "text": [
      "8169.345\n"
     ]
    },
    {
     "name": "stderr",
     "output_type": "stream",
     "text": [
      "Chain 0: 100%|██████████| 200/200 [00:21<00:00,  9.15it/s]\n",
      "Chain 1: 100%|██████████| 200/200 [00:20<00:00,  9.91it/s]\n",
      "Chain 2: 100%|██████████| 200/200 [00:18<00:00, 10.87it/s]\n",
      " 83%|████████▎ | 83/100 [1:07:26<16:38, 58.71s/it]"
     ]
    },
    {
     "name": "stdout",
     "output_type": "stream",
     "text": [
      "8365.326\n"
     ]
    },
    {
     "name": "stderr",
     "output_type": "stream",
     "text": [
      "Chain 0: 100%|██████████| 200/200 [00:18<00:00, 10.79it/s]\n",
      "Chain 1: 100%|██████████| 200/200 [00:18<00:00, 10.80it/s]\n",
      "Chain 2: 100%|██████████| 200/200 [00:18<00:00, 10.83it/s]\n",
      " 84%|████████▍ | 84/100 [1:08:22<15:24, 57.76s/it]"
     ]
    },
    {
     "name": "stdout",
     "output_type": "stream",
     "text": [
      "8123.412\n"
     ]
    },
    {
     "name": "stderr",
     "output_type": "stream",
     "text": [
      "Chain 0: 100%|██████████| 200/200 [00:18<00:00, 10.81it/s]\n",
      "Chain 1: 100%|██████████| 200/200 [00:18<00:00, 10.73it/s]\n",
      "Chain 2: 100%|██████████| 200/200 [00:21<00:00,  9.17it/s]\n",
      " 85%|████████▌ | 85/100 [1:09:21<14:31, 58.13s/it]"
     ]
    },
    {
     "name": "stdout",
     "output_type": "stream",
     "text": [
      "8207.546\n"
     ]
    },
    {
     "name": "stderr",
     "output_type": "stream",
     "text": [
      "Chain 0: 100%|██████████| 200/200 [00:21<00:00,  9.15it/s]\n",
      "Chain 1: 100%|██████████| 200/200 [00:16<00:00, 11.78it/s]\n",
      "Chain 2: 100%|██████████| 200/200 [00:09<00:00, 20.55it/s]\n",
      " 86%|████████▌ | 86/100 [1:10:09<12:53, 55.27s/it]"
     ]
    },
    {
     "name": "stdout",
     "output_type": "stream",
     "text": [
      "8150.173\n"
     ]
    },
    {
     "name": "stderr",
     "output_type": "stream",
     "text": [
      "Chain 0: 100%|██████████| 200/200 [00:09<00:00, 20.58it/s]\n",
      "Chain 1: 100%|██████████| 200/200 [00:09<00:00, 20.59it/s]\n",
      "Chain 2: 100%|██████████| 200/200 [00:09<00:00, 20.57it/s]\n",
      " 87%|████████▋ | 87/100 [1:10:38<10:16, 47.44s/it]"
     ]
    },
    {
     "name": "stdout",
     "output_type": "stream",
     "text": [
      "8063.57\n"
     ]
    },
    {
     "name": "stderr",
     "output_type": "stream",
     "text": [
      "Chain 0: 100%|██████████| 200/200 [00:09<00:00, 20.55it/s]\n",
      "Chain 1: 100%|██████████| 200/200 [00:09<00:00, 20.59it/s]\n",
      "Chain 2: 100%|██████████| 200/200 [00:09<00:00, 20.57it/s]\n",
      " 88%|████████▊ | 88/100 [1:11:08<08:23, 41.97s/it]"
     ]
    },
    {
     "name": "stdout",
     "output_type": "stream",
     "text": [
      "8104.8257\n"
     ]
    },
    {
     "name": "stderr",
     "output_type": "stream",
     "text": [
      "Chain 0: 100%|██████████| 200/200 [00:09<00:00, 20.62it/s]\n",
      "Chain 1: 100%|██████████| 200/200 [00:09<00:00, 20.60it/s]\n",
      "Chain 2: 100%|██████████| 200/200 [00:09<00:00, 20.57it/s]\n",
      " 89%|████████▉ | 89/100 [1:11:37<06:59, 38.13s/it]"
     ]
    },
    {
     "name": "stdout",
     "output_type": "stream",
     "text": [
      "7975.9756\n"
     ]
    },
    {
     "name": "stderr",
     "output_type": "stream",
     "text": [
      "Chain 0: 100%|██████████| 200/200 [00:09<00:00, 20.57it/s]\n",
      "Chain 1: 100%|██████████| 200/200 [00:09<00:00, 20.60it/s]\n",
      "Chain 2: 100%|██████████| 200/200 [00:09<00:00, 20.61it/s]\n",
      " 90%|█████████ | 90/100 [1:12:06<05:54, 35.44s/it]"
     ]
    },
    {
     "name": "stdout",
     "output_type": "stream",
     "text": [
      "8998.363\n"
     ]
    },
    {
     "name": "stderr",
     "output_type": "stream",
     "text": [
      "Chain 0: 100%|██████████| 200/200 [00:09<00:00, 20.63it/s]\n",
      "Chain 1: 100%|██████████| 200/200 [00:09<00:00, 20.27it/s]\n",
      "Chain 2: 100%|██████████| 200/200 [00:09<00:00, 20.61it/s]\n",
      " 91%|█████████ | 91/100 [1:12:35<05:02, 33.59s/it]"
     ]
    },
    {
     "name": "stdout",
     "output_type": "stream",
     "text": [
      "8334.881\n"
     ]
    },
    {
     "name": "stderr",
     "output_type": "stream",
     "text": [
      "Chain 0: 100%|██████████| 200/200 [00:09<00:00, 20.57it/s]\n",
      "Chain 1: 100%|██████████| 200/200 [00:09<00:00, 20.62it/s]\n",
      "Chain 2: 100%|██████████| 200/200 [00:09<00:00, 20.61it/s]\n",
      " 92%|█████████▏| 92/100 [1:13:04<04:18, 32.26s/it]"
     ]
    },
    {
     "name": "stdout",
     "output_type": "stream",
     "text": [
      "8884.666\n"
     ]
    },
    {
     "name": "stderr",
     "output_type": "stream",
     "text": [
      "Chain 0: 100%|██████████| 200/200 [00:09<00:00, 20.66it/s]\n",
      "Chain 1: 100%|██████████| 200/200 [00:09<00:00, 20.61it/s]\n",
      "Chain 2: 100%|██████████| 200/200 [00:09<00:00, 20.59it/s]\n",
      " 93%|█████████▎| 93/100 [1:13:34<03:39, 31.32s/it]"
     ]
    },
    {
     "name": "stdout",
     "output_type": "stream",
     "text": [
      "8663.977\n"
     ]
    },
    {
     "name": "stderr",
     "output_type": "stream",
     "text": [
      "Chain 0: 100%|██████████| 200/200 [00:09<00:00, 20.60it/s]\n",
      "Chain 1: 100%|██████████| 200/200 [00:09<00:00, 20.57it/s]\n",
      "Chain 2: 100%|██████████| 200/200 [00:09<00:00, 20.58it/s]\n",
      " 94%|█████████▍| 94/100 [1:14:03<03:04, 30.68s/it]"
     ]
    },
    {
     "name": "stdout",
     "output_type": "stream",
     "text": [
      "8064.538\n"
     ]
    },
    {
     "name": "stderr",
     "output_type": "stream",
     "text": [
      "Chain 0: 100%|██████████| 200/200 [00:09<00:00, 20.59it/s]\n",
      "Chain 1: 100%|██████████| 200/200 [00:09<00:00, 20.60it/s]\n",
      "Chain 2: 100%|██████████| 200/200 [00:09<00:00, 20.59it/s]\n",
      " 95%|█████████▌| 95/100 [1:14:32<02:31, 30.22s/it]"
     ]
    },
    {
     "name": "stdout",
     "output_type": "stream",
     "text": [
      "9093.949\n"
     ]
    },
    {
     "name": "stderr",
     "output_type": "stream",
     "text": [
      "Chain 0: 100%|██████████| 200/200 [00:09<00:00, 20.56it/s]\n",
      "Chain 1: 100%|██████████| 200/200 [00:09<00:00, 20.57it/s]\n",
      "Chain 2: 100%|██████████| 200/200 [00:09<00:00, 20.62it/s]\n",
      " 96%|█████████▌| 96/100 [1:15:01<01:59, 29.91s/it]"
     ]
    },
    {
     "name": "stdout",
     "output_type": "stream",
     "text": [
      "8753.904\n"
     ]
    },
    {
     "name": "stderr",
     "output_type": "stream",
     "text": [
      "Chain 0: 100%|██████████| 200/200 [00:09<00:00, 20.60it/s]\n",
      "Chain 1: 100%|██████████| 200/200 [00:09<00:00, 20.60it/s]\n",
      "Chain 2: 100%|██████████| 200/200 [00:09<00:00, 20.58it/s]\n",
      " 97%|█████████▋| 97/100 [1:15:30<01:29, 29.69s/it]"
     ]
    },
    {
     "name": "stdout",
     "output_type": "stream",
     "text": [
      "8451.4\n"
     ]
    },
    {
     "name": "stderr",
     "output_type": "stream",
     "text": [
      "Chain 0: 100%|██████████| 200/200 [00:09<00:00, 20.57it/s]\n",
      "Chain 1: 100%|██████████| 200/200 [00:09<00:00, 20.54it/s]\n",
      "Chain 2: 100%|██████████| 200/200 [00:09<00:00, 20.60it/s]\n",
      " 98%|█████████▊| 98/100 [1:15:59<00:59, 29.54s/it]"
     ]
    },
    {
     "name": "stdout",
     "output_type": "stream",
     "text": [
      "8599.8955\n"
     ]
    },
    {
     "name": "stderr",
     "output_type": "stream",
     "text": [
      "Chain 0: 100%|██████████| 200/200 [00:09<00:00, 20.59it/s]\n",
      "Chain 1: 100%|██████████| 200/200 [00:09<00:00, 20.59it/s]\n",
      "Chain 2: 100%|██████████| 200/200 [00:09<00:00, 20.24it/s]\n",
      " 99%|█████████▉| 99/100 [1:16:29<00:29, 29.48s/it]"
     ]
    },
    {
     "name": "stdout",
     "output_type": "stream",
     "text": [
      "7861.1475\n"
     ]
    },
    {
     "name": "stderr",
     "output_type": "stream",
     "text": [
      "Chain 0: 100%|██████████| 200/200 [00:09<00:00, 20.58it/s]\n",
      "Chain 1: 100%|██████████| 200/200 [00:09<00:00, 20.57it/s]\n",
      "Chain 2: 100%|██████████| 200/200 [00:09<00:00, 20.60it/s]\n",
      "100%|██████████| 100/100 [1:16:58<00:00, 46.18s/it]"
     ]
    },
    {
     "name": "stdout",
     "output_type": "stream",
     "text": [
      "8733.814\n"
     ]
    },
    {
     "name": "stderr",
     "output_type": "stream",
     "text": [
      "\n"
     ]
    }
   ],
   "source": [
    "epsilon = 1e-6\n",
    "gamma = 8e5\n",
    "num_chains = 3\n",
    "num_draws = 200\n",
    "llcs = []\n",
    "for i in tqdm(range(100)):\n",
    "    llc_estimator = OnlineLLCEstimator(num_chains, num_draws, len(dataset), device=device)\n",
    "    grad_norm = GradientNorm(num_chains, num_draws, device=device)\n",
    "    callbacks = [llc_estimator, grad_norm]\n",
    "    result = run_callbacks(\n",
    "        model=value_network,\n",
    "        epsilon=epsilon,\n",
    "        gamma=gamma,\n",
    "        dataloader=dataloader,\n",
    "        num_chains=num_chains,\n",
    "        num_draws=num_draws,\n",
    "        dataset=dataset,\n",
    "        callbacks=callbacks,\n",
    "        device=device\n",
    "    )\n",
    "    llcs.append(result['llc/means'][-1])\n",
    "    print(result['llc/means'][-1])\n",
    "\n"
   ]
  },
  {
   "cell_type": "code",
   "execution_count": null,
   "metadata": {},
   "outputs": [],
   "source": [
    "# making a histogram of the llcs\n",
    "plt.hist(llcs, bins=20)\n",
    "plt.show()"
   ]
  },
  {
   "cell_type": "code",
   "execution_count": null,
   "metadata": {},
   "outputs": [],
   "source": [
    "print(f\"llc mean: {np.mean(llcs)}, llc std: {np.std(llcs)}\")"
   ]
  },
  {
   "cell_type": "code",
   "execution_count": 48,
   "metadata": {},
   "outputs": [
    {
     "name": "stdout",
     "output_type": "stream",
     "text": [
      "[1.00000000e-07 1.66810054e-07 2.78255940e-07 4.64158883e-07\n",
      " 7.74263683e-07 1.29154967e-06 2.15443469e-06 3.59381366e-06\n",
      " 5.99484250e-06 1.00000000e-05]\n"
     ]
    }
   ],
   "source": [
    "epsilons = np.logspace(-7, -5, 10)\n",
    "gammas = np.logspace(4, 6, 10)\n",
    "print(epsilons)"
   ]
  },
  {
   "cell_type": "code",
   "execution_count": 56,
   "metadata": {},
   "outputs": [
    {
     "name": "stdout",
     "output_type": "stream",
     "text": [
      "Running calibration sweep on model 8000\n"
     ]
    },
    {
     "name": "stderr",
     "output_type": "stream",
     "text": [
      "Chain 0: 100%|██████████| 200/200 [00:09<00:00, 20.92it/s]\n",
      "Chain 1: 100%|██████████| 200/200 [00:09<00:00, 20.95it/s]\n",
      "Chain 2: 100%|██████████| 200/200 [00:09<00:00, 20.82it/s]\n"
     ]
    },
    {
     "name": "stdout",
     "output_type": "stream",
     "text": [
      "Pair: 1e-06, 800000.0 - llc mean: 8785.4912109375, llc std: 1129.9354248046875\n"
     ]
    },
    {
     "data": {
      "image/png": "[encoded data removed]",
      "text/plain": [
       "<Figure size 432x288 with 2 Axes>"
      ]
     },
     "metadata": {
      "needs_background": "light"
     },
     "output_type": "display_data"
    },
    {
     "name": "stderr",
     "output_type": "stream",
     "text": [
      "Chain 0: 100%|██████████| 200/200 [00:09<00:00, 20.86it/s]\n",
      "Chain 1: 100%|██████████| 200/200 [00:09<00:00, 20.35it/s]\n",
      "Chain 2: 100%|██████████| 200/200 [00:09<00:00, 20.79it/s]\n"
     ]
    },
    {
     "name": "stdout",
     "output_type": "stream",
     "text": [
      "Pair: 1e-06, 800000.0 - llc mean: 8366.7802734375, llc std: 65.88754272460938\n"
     ]
    },
    {
     "data": {
      "image/png": "[encoded data removed]",
      "text/plain": [
       "<Figure size 432x288 with 2 Axes>"
      ]
     },
     "metadata": {
      "needs_background": "light"
     },
     "output_type": "display_data"
    },
    {
     "name": "stderr",
     "output_type": "stream",
     "text": [
      "Chain 0: 100%|██████████| 200/200 [00:09<00:00, 20.74it/s]\n",
      "Chain 1: 100%|██████████| 200/200 [00:09<00:00, 20.65it/s]\n",
      "Chain 2: 100%|██████████| 200/200 [00:09<00:00, 20.62it/s]\n"
     ]
    },
    {
     "name": "stdout",
     "output_type": "stream",
     "text": [
      "Pair: 1e-06, 800000.0 - llc mean: 8253.68359375, llc std: 404.50311279296875\n"
     ]
    },
    {
     "data": {
      "image/png": "[encoded data removed]",
      "text/plain": [
       "<Figure size 432x288 with 2 Axes>"
      ]
     },
     "metadata": {
      "needs_background": "light"
     },
     "output_type": "display_data"
    },
    {
     "name": "stderr",
     "output_type": "stream",
     "text": [
      "Chain 0: 100%|██████████| 200/200 [00:09<00:00, 20.64it/s]\n",
      "Chain 1: 100%|██████████| 200/200 [00:09<00:00, 20.64it/s]\n",
      "Chain 2: 100%|██████████| 200/200 [00:09<00:00, 20.65it/s]\n"
     ]
    },
    {
     "name": "stdout",
     "output_type": "stream",
     "text": [
      "Pair: 1e-06, 800000.0 - llc mean: 8152.876953125, llc std: 619.253662109375\n"
     ]
    },
    {
     "data": {
      "image/png": "[encoded data removed]",
      "text/plain": [
       "<Figure size 432x288 with 2 Axes>"
      ]
     },
     "metadata": {
      "needs_background": "light"
     },
     "output_type": "display_data"
    },
    {
     "name": "stderr",
     "output_type": "stream",
     "text": [
      "Chain 0: 100%|██████████| 200/200 [00:09<00:00, 20.64it/s]\n",
      "Chain 1: 100%|██████████| 200/200 [00:09<00:00, 20.67it/s]\n",
      "Chain 2: 100%|██████████| 200/200 [00:09<00:00, 20.63it/s]\n"
     ]
    },
    {
     "name": "stdout",
     "output_type": "stream",
     "text": [
      "Pair: 1e-06, 800000.0 - llc mean: 8353.5478515625, llc std: 366.8700866699219\n"
     ]
    },
    {
     "data": {
      "image/png": "[encoded data removed]",
      "text/plain": [
       "<Figure size 432x288 with 2 Axes>"
      ]
     },
     "metadata": {
      "needs_background": "light"
     },
     "output_type": "display_data"
    },
    {
     "name": "stderr",
     "output_type": "stream",
     "text": [
      "epsilons: 100%|██████████| 1/1 [02:26<00:00, 146.07s/it]\n"
     ]
    }
   ],
   "source": [
    "print(f\"Running calibration sweep on model {artifact_no}\")\n",
    "# results = estimate_llcs_sweeper(value_network, epsilons, gammas, dataloader, dataset)\n",
    "# epsilon centered around 1e-6, gamma centered around 1e5 (in log space)\n",
    "epsilons = [1e-6]\n",
    "gammas = [8e5, 8e5, 8e5, 8e5, 8e5]\n",
    "num_draws = 200\n",
    "num_chains = 3\n",
    "results = {}\n",
    "timed_dir = f\"calibration_sweeps/{str(time.time())}\"\n",
    "os.makedirs(timed_dir, exist_ok=True)\n",
    "for epsilon in tqdm(epsilons, desc=\"epsilons\"):\n",
    "    for gamma in gammas:\n",
    "        llc_estimator = OnlineLLCEstimator(num_chains, num_draws, len(dataset), device=device)\n",
    "        grad_norm = GradientNorm(num_chains, num_draws, device=device)\n",
    "        callbacks = [grad_norm, llc_estimator]\n",
    "        assert validate_callbacks(callbacks)\n",
    "        result = run_callbacks(\n",
    "            model=value_network,\n",
    "            epsilon=epsilon,\n",
    "            gamma=gamma,\n",
    "            dataloader=dataloader,\n",
    "            num_chains=num_chains,\n",
    "            num_draws=num_draws,\n",
    "            dataset=dataset,\n",
    "            callbacks=callbacks,\n",
    "            device=device\n",
    "        )\n",
    "        print(f\"Pair: {epsilon}, {gamma} - llc mean: {result['llc/means'][-1]}, llc std: {result['llc/stds'][-1]}\")\n",
    "        results[(epsilon, gamma)] = result\n",
    "        plot_single_graph(result)\n",
    "        with open(f'{timed_dir}/calibration_sweep_results_model_{artifact_no}.pkl', 'wb') as f:\n",
    "            pickle.dump(results, f)\n",
    "\n",
    "\n",
    "# print(\"Fetching model and dataloader 100\")\n",
    "# dataloader, dataset, value_network = get_artifact_network_and_data(artifact_number = 100)\n",
    "\n",
    "# print(\"Running calibration sweep on model 100\")\n",
    "# results = estimate_llcs_sweeper(value_network, epsilons, gammas)\n",
    "\n",
    "# with open('calibration_sweep_results_model_100.pkl', 'wb') as f:\n",
    "#     pickle.dump(results, f)\n",
    "\n",
    "# plot_sweep_single_model(\n",
    "#     results, \n",
    "#     epsilons, \n",
    "#     gammas, \n",
    "#     \"calibration_sweep_model_100.png\", \n",
    "#     title='Calibration sweep of model for lr ($\\epsilon$) and elasticity ($\\gamma$)'\n",
    "# )\n"
   ]
  },
  {
   "cell_type": "code",
   "execution_count": null,
   "metadata": {},
   "outputs": [],
   "source": [
    "# making a table of epsilons, gammas, and their llc stds\n",
    "for epsilon in epsilons:\n",
    "    for gamma in gammas:\n",
    "        pair = (epsilon, gamma)\n",
    "        result = results[pair]\n",
    "        if result is None:\n",
    "            continue\n",
    "        llc_std = result['llc/stds'].mean()\n",
    "        llc_mean = result['llc/means'].mean()\n",
    "        print(f\"{pair} & {llc_mean:.3f} & {llc_std:.3f} \\\\\\\\\")"
   ]
  },
  {
   "cell_type": "code",
   "execution_count": null,
   "metadata": {},
   "outputs": [],
   "source": [
    "print(results[(1e-6, 1e5)]['llc/means'].mean())\n",
    "print(results[(1e-6, 1e5)]['llc/stds'].mean())"
   ]
  },
  {
   "cell_type": "code",
   "execution_count": null,
   "metadata": {},
   "outputs": [],
   "source": [
    "result = results[(1e-06, 100000.0)]\n",
    "print(type(result))\n",
    "print(result)"
   ]
  },
  {
   "cell_type": "code",
   "execution_count": null,
   "metadata": {},
   "outputs": [],
   "source": [
    "with open(f'{timed_dir}/calibration_sweep_results_model_{artifact_no}.pkl', 'rb') as f:\n",
    "    results = pickle.load(f)\n",
    "folder_timelog = str(time.time())\n",
    "os.makedirs(f\"calibration_sweep/{folder_timelog}\", exist_ok=True)"
   ]
  },
  {
   "cell_type": "code",
   "execution_count": null,
   "metadata": {},
   "outputs": [],
   "source": [
    "plot_sweep_single_model(\n",
    "    results, \n",
    "    epsilons, \n",
    "    gammas, \n",
    "    f\"calibration_sweep_model_{artifact_no}.png\", \n",
    "    title=f'Calibration sweep of model {artifact_no} for lr ($\\epsilon$) and elasticity ($\\gamma$)'\n",
    ")"
   ]
  },
  {
   "cell_type": "code",
   "execution_count": null,
   "metadata": {},
   "outputs": [],
   "source": [
    "for epsilon in epsilons:\n",
    "    for gamma in gammas:\n",
    "        llc_trace = results[(epsilon, gamma)]['llc/trace']\n",
    "        # plot_trace(llc_trace, f'llc_trace ({epsilon}, {gamma})', f\"calibration_sweep/{folder_timelog}/llc_trace.png\")\n",
    "        # # gradient_trace = results[(epsilon, gamma)]['gradient_norm/trace']\n",
    "        # # plot_trace(gradient_trace, f'gradient_trace ({epsilon}, {gamma})', f\"calibration_sweep/{folder_timelog}/gradient_trace.png\")\n",
    "        # loss_trace = results[(epsilon, gamma)]['loss/trace']\n",
    "        # plot_trace(loss_trace, f'loss_trace ({epsilon}, {gamma})', f\"calibration_sweep/{folder_timelog}/loss_trace.png\")\n",
    "        plot_single_graph(results[(epsilon, gamma)])"
   ]
  },
  {
   "cell_type": "code",
   "execution_count": null,
   "metadata": {},
   "outputs": [],
   "source": [
    "gradient_trace = result['gradient_norm/trace']\n",
    "plot_trace(gradient_trace, 'gradient norm', f\"calibration_sweep/{folder_timelog}/gradient_trace.png\")"
   ]
  },
  {
   "cell_type": "code",
   "execution_count": null,
   "metadata": {},
   "outputs": [],
   "source": [
    "loss_trace = result['loss/trace']\n",
    "plot_trace(loss_trace, 'loss', f\"calibration_sweep/{folder_timelog}/loss_trace.png\")"
   ]
  },
  {
   "cell_type": "code",
   "execution_count": null,
   "metadata": {},
   "outputs": [],
   "source": [
    "with open('calibration_sweep_results_model_8000.pkl', 'rb') as f:\n",
    "    results = pickle.load(f)\n",
    "folder_timelog = str(time.time())\n",
    "os.makedirs(f\"calibration_sweep/{folder_timelog}\", exist_ok=True)\n",
    "for epsilon in epsilons:\n",
    "    for gamma in gammas:\n",
    "        result = results[(epsilon, gamma)]\n",
    "        if result is None:\n",
    "            continue\n",
    "        \n",
    "        plot_single_graph(\n",
    "            result, \n",
    "            f\"calibration_sweep/{folder_timelog}/llc_model_8000_{epsilon}_{gamma}.png\",\n",
    "            title=f\"Calibration sweep of model 8000 for lr ($\\epsilon$) and elasticity ($\\gamma$)\"\n",
    "        )\n",
    "\n",
    "        gradient_trace = result[\"gradient_norm/trace\"]\n",
    "        plot_trace_and_save(\n",
    "            gradient_trace, \n",
    "            y_axis=\"gradient norm\", \n",
    "            name=f\"calibration_sweep/{folder_timelog}/gradient_trace_model_8000_{epsilon}_{gamma}.png\"\n",
    "        )"
   ]
  }
 ],
 "metadata": {
  "kernelspec": {
   "display_name": "Python 3",
   "language": "python",
   "name": "python3"
  },
  "language_info": {
   "codemirror_mode": {
    "name": "ipython",
    "version": 3
   },
   "file_extension": ".py",
   "mimetype": "text/x-python",
   "name": "python",
   "nbconvert_exporter": "python",
   "pygments_lexer": "ipython3",
   "version": "3.10.12"
  }
 },
 "nbformat": 4,
 "nbformat_minor": 2
}
